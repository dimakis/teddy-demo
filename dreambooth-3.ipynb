{
 "cells": [
  {
   "cell_type": "markdown",
   "id": "fcafa873-3ba1-440f-8659-1ae5ffcb467b",
   "metadata": {},
   "source": [
    "# Train Stable Diffusion with CodeFlare"
   ]
  },
  {
   "cell_type": "code",
   "execution_count": 20,
   "id": "2cb4fbe1-5374-48f0-9d66-1b2634246410",
   "metadata": {},
   "outputs": [
    {
     "name": "stdout",
     "output_type": "stream",
     "text": [
      "/opt/app-root/src/text-to-image-demo/dim-dreambooth/dreambooth\n"
     ]
    }
   ],
   "source": [
    "!pwd"
   ]
  },
  {
   "cell_type": "code",
   "execution_count": 43,
   "id": "152eacad-62f0-41f1-ad99-1e5e5cdaa6bd",
   "metadata": {},
   "outputs": [],
   "source": [
    "# !pip install codeflare-sdk\n",
    "# !pip install -Ur requirements.txt"
   ]
  },
  {
   "cell_type": "markdown",
   "id": "3d662b48-f4bb-47d4-bf23-da97a38bd5c0",
   "metadata": {},
   "source": [
    "## Prep Infra"
   ]
  },
  {
   "cell_type": "code",
   "execution_count": 4,
   "id": "1d39ba0c-5500-452c-9166-372081db74d3",
   "metadata": {},
   "outputs": [],
   "source": [
    "# Import pieces from codeflare-sdk\n",
    "from codeflare_sdk.cluster.cluster import Cluster, ClusterConfiguration\n",
    "from codeflare_sdk.cluster.auth import TokenAuthentication"
   ]
  },
  {
   "cell_type": "code",
   "execution_count": 5,
   "id": "d8603376-e101-4112-9998-dca160caa43a",
   "metadata": {},
   "outputs": [
    {
     "data": {
      "text/plain": [
       "'Logged into https://api.aisrhods-dim.u1hh.p1.openshiftapps.com:6443'"
      ]
     },
     "execution_count": 5,
     "metadata": {},
     "output_type": "execute_result"
    }
   ],
   "source": [
    "# Create authentication object for user permissions\n",
    "# IF unused, SDK will automatically check for default kubeconfig, then in-cluster config\n",
    "# KubeConfigFileAuthentication can also be used to specify kubeconfig path manually\n",
    "auth = TokenAuthentication(\n",
    "    token = \"\",\n",
    "    server = \"\",\n",
    "    skip_tls=False\n",
    ")\n",
    "auth.login()"
   ]
  },
  {
   "cell_type": "code",
   "execution_count": null,
   "id": "b6c05b69-4ce8-45ef-82d3-bacb2491bee8",
   "metadata": {},
   "outputs": [],
   "source": []
  },
  {
   "cell_type": "code",
   "execution_count": 65,
   "id": "3f32119a-c4ee-4163-b103-d9ca3bddbdb5",
   "metadata": {},
   "outputs": [
    {
     "name": "stdout",
     "output_type": "stream",
     "text": [
      "Written to: stab-diff-mod.yaml\n"
     ]
    }
   ],
   "source": [
    "cluster = Cluster(ClusterConfiguration(\n",
    "    name='stab-diff-model',\n",
    "    namespace='default',\n",
    "    num_workers=2,\n",
    "    min_cpus=16,\n",
    "    max_cpus=16,\n",
    "    min_memory=24,\n",
    "    max_memory=24,\n",
    "    num_gpus=1,\n",
    "    instascale=True, #<---instascale enabled\n",
    "    machine_types=[\"m5.xlarge\", \"g5.4xlarge\"],\n",
    "))"
   ]
  },
  {
   "cell_type": "code",
   "execution_count": 66,
   "id": "31c529bc-46d1-41de-8715-34a6e331ac38",
   "metadata": {},
   "outputs": [],
   "source": [
    "cluster.up()"
   ]
  },
  {
   "cell_type": "code",
   "execution_count": 64,
   "id": "0045deab-ccc3-43c8-bd89-dcd842f6695e",
   "metadata": {},
   "outputs": [],
   "source": [
    "cluster.down()"
   ]
  },
  {
   "cell_type": "code",
   "execution_count": 70,
   "id": "34fb9b32-ae47-406f-83d5-87181a5b057a",
   "metadata": {},
   "outputs": [
    {
     "data": {
      "text/html": [
       "<pre style=\"white-space:pre;overflow-x:auto;line-height:normal;font-family:Menlo,'DejaVu Sans Mono',consolas,'Courier New',monospace\"><span style=\"font-style: italic\">                     </span><span style=\"font-weight: bold; font-style: italic\"> 🚀 CodeFlare Cluster Details 🚀</span><span style=\"font-style: italic\">                     </span>\n",
       "<span style=\"font-weight: bold\">                                                                          </span>\n",
       " ╭──────────────────────────────────────────────────────────────────────╮ \n",
       " │   <span style=\"color: #c0c0c0; text-decoration-color: #c0c0c0; background-color: #008000; font-weight: bold\">Name</span>                                                               │ \n",
       " │   <span style=\"font-weight: bold; text-decoration: underline\">stab-diff-mod</span>                                        Inactive ❌   │ \n",
       " │                                                                      │ \n",
       " │   <span style=\"font-weight: bold\">URI:</span> ray://stab-diff-mod-head-svc.default.svc:10001                │ \n",
       " │                                                                      │ \n",
       " │   Dashboard🔗                                                        │ \n",
       " │                                                                      │ \n",
       " │  <span style=\"font-style: italic\">                     Cluster Resources                     </span>         │ \n",
       " │   ╭── Workers ──╮  ╭───────── Worker specs(each) ─────────╮          │ \n",
       " │   │ <span style=\"font-weight: bold\"> # Workers </span> │  │ <span style=\"font-weight: bold\"> Memory      CPU         GPU        </span> │          │ \n",
       " │   │ <span style=\"color: #800080; text-decoration-color: #800080\">           </span> │  │ <span style=\"color: #008080; text-decoration-color: #008080\">            </span><span style=\"color: #800080; text-decoration-color: #800080\">                        </span> │          │ \n",
       " │   │ <span style=\"color: #800080; text-decoration-color: #800080\"> 2         </span> │  │ <span style=\"color: #008080; text-decoration-color: #008080\"> 16~16      </span><span style=\"color: #800080; text-decoration-color: #800080\"> 4           1          </span> │          │ \n",
       " │   │ <span style=\"color: #800080; text-decoration-color: #800080\">           </span> │  │ <span style=\"color: #008080; text-decoration-color: #008080\">            </span><span style=\"color: #800080; text-decoration-color: #800080\">                        </span> │          │ \n",
       " │   ╰─────────────╯  ╰──────────────────────────────────────╯          │ \n",
       " ╰──────────────────────────────────────────────────────────────────────╯ \n",
       "</pre>\n"
      ],
      "text/plain": [
       "\u001b[3m                     \u001b[0m\u001b[1;3m 🚀 CodeFlare Cluster Details 🚀\u001b[0m\u001b[3m                     \u001b[0m\n",
       "\u001b[1m \u001b[0m\u001b[1m                                                                        \u001b[0m\u001b[1m \u001b[0m\n",
       " ╭──────────────────────────────────────────────────────────────────────╮ \n",
       " │   \u001b[1;37;42mName\u001b[0m                                                               │ \n",
       " │   \u001b[1;4mstab-diff-mod\u001b[0m                                        Inactive ❌   │ \n",
       " │                                                                      │ \n",
       " │   \u001b[1mURI:\u001b[0m ray://stab-diff-mod-head-svc.default.svc:10001                │ \n",
       " │                                                                      │ \n",
       " │   Dashboard🔗                                                        │ \n",
       " │                                                                      │ \n",
       " │  \u001b[3m                     Cluster Resources                     \u001b[0m         │ \n",
       " │   ╭── Workers ──╮  ╭───────── Worker specs(each) ─────────╮          │ \n",
       " │   │ \u001b[1m \u001b[0m\u001b[1m# Workers\u001b[0m\u001b[1m \u001b[0m │  │ \u001b[1m \u001b[0m\u001b[1mMemory    \u001b[0m\u001b[1m \u001b[0m\u001b[1m \u001b[0m\u001b[1mCPU       \u001b[0m\u001b[1m \u001b[0m\u001b[1m \u001b[0m\u001b[1mGPU       \u001b[0m\u001b[1m \u001b[0m │          │ \n",
       " │   │ \u001b[35m \u001b[0m\u001b[35m         \u001b[0m\u001b[35m \u001b[0m │  │ \u001b[36m \u001b[0m\u001b[36m          \u001b[0m\u001b[36m \u001b[0m\u001b[35m \u001b[0m\u001b[35m          \u001b[0m\u001b[35m \u001b[0m\u001b[35m \u001b[0m\u001b[35m          \u001b[0m\u001b[35m \u001b[0m │          │ \n",
       " │   │ \u001b[35m \u001b[0m\u001b[35m2        \u001b[0m\u001b[35m \u001b[0m │  │ \u001b[36m \u001b[0m\u001b[36m16~16     \u001b[0m\u001b[36m \u001b[0m\u001b[35m \u001b[0m\u001b[35m4         \u001b[0m\u001b[35m \u001b[0m\u001b[35m \u001b[0m\u001b[35m1         \u001b[0m\u001b[35m \u001b[0m │          │ \n",
       " │   │ \u001b[35m \u001b[0m\u001b[35m         \u001b[0m\u001b[35m \u001b[0m │  │ \u001b[36m \u001b[0m\u001b[36m          \u001b[0m\u001b[36m \u001b[0m\u001b[35m \u001b[0m\u001b[35m          \u001b[0m\u001b[35m \u001b[0m\u001b[35m \u001b[0m\u001b[35m          \u001b[0m\u001b[35m \u001b[0m │          │ \n",
       " │   ╰─────────────╯  ╰──────────────────────────────────────╯          │ \n",
       " ╰──────────────────────────────────────────────────────────────────────╯ \n"
      ]
     },
     "metadata": {},
     "output_type": "display_data"
    },
    {
     "data": {
      "text/plain": [
       "RayCluster(name='stab-diff-mod', status=<CodeFlareClusterStatus.QUEUEING: 4>, workers=2, worker_mem_min=16, worker_mem_max=16, worker_cpu=4, worker_gpu=1, namespace='default', dashboard='Dashboard route not available yet, have you run cluster.up()?')"
      ]
     },
     "execution_count": 70,
     "metadata": {},
     "output_type": "execute_result"
    }
   ],
   "source": [
    "cluster.details()"
   ]
  },
  {
   "cell_type": "code",
   "execution_count": 71,
   "id": "ffc5b3cc-594b-4144-9933-7d8f81f672fd",
   "metadata": {},
   "outputs": [
    {
     "data": {
      "text/html": [
       "<pre style=\"white-space:pre;overflow-x:auto;line-height:normal;font-family:Menlo,'DejaVu Sans Mono',consolas,'Courier New',monospace\">╭──────────────────────────────╮\n",
       "│ <span style=\"font-weight: bold; font-style: italic\"> 🚀 Cluster Queue Status 🚀</span><span style=\"font-style: italic\"> </span> │\n",
       "│ +---------------+----------+ │\n",
       "│ |<span style=\"font-weight: bold\"> Name          </span>|<span style=\"font-weight: bold\"> Status   </span>| │\n",
       "│ +===============+==========+ │\n",
       "│ |<span style=\"color: #008080; text-decoration-color: #008080\"> stab-diff-mod </span>|<span style=\"color: #800080; text-decoration-color: #800080\"> queueing </span>| │\n",
       "│ |<span style=\"color: #008080; text-decoration-color: #008080\">               </span>|<span style=\"color: #800080; text-decoration-color: #800080\">          </span>| │\n",
       "│ +---------------+----------+ │\n",
       "╰──────────────────────────────╯\n",
       "</pre>\n"
      ],
      "text/plain": [
       "╭──────────────────────────────╮\n",
       "│ \u001b[1;3m 🚀 Cluster Queue Status 🚀\u001b[0m\u001b[3m \u001b[0m │\n",
       "│ +---------------+----------+ │\n",
       "│ |\u001b[1m \u001b[0m\u001b[1mName         \u001b[0m\u001b[1m \u001b[0m|\u001b[1m \u001b[0m\u001b[1mStatus  \u001b[0m\u001b[1m \u001b[0m| │\n",
       "│ +===============+==========+ │\n",
       "│ |\u001b[36m \u001b[0m\u001b[36mstab-diff-mod\u001b[0m\u001b[36m \u001b[0m|\u001b[35m \u001b[0m\u001b[35mqueueing\u001b[0m\u001b[35m \u001b[0m| │\n",
       "│ |\u001b[36m \u001b[0m\u001b[36m             \u001b[0m\u001b[36m \u001b[0m|\u001b[35m \u001b[0m\u001b[35m        \u001b[0m\u001b[35m \u001b[0m| │\n",
       "│ +---------------+----------+ │\n",
       "╰──────────────────────────────╯\n"
      ]
     },
     "metadata": {},
     "output_type": "display_data"
    },
    {
     "data": {
      "text/plain": [
       "(<CodeFlareClusterStatus.QUEUEING: 4>, False)"
      ]
     },
     "execution_count": 71,
     "metadata": {},
     "output_type": "execute_result"
    }
   ],
   "source": [
    "cluster.status()"
   ]
  },
  {
   "cell_type": "code",
   "execution_count": null,
   "id": "23352fd5",
   "metadata": {},
   "outputs": [],
   "source": [
    "import codeflare_sdk as cf"
   ]
  },
  {
   "cell_type": "code",
   "execution_count": 63,
   "id": "0c30cd22-f9a7-4877-8561-8b958eccdf13",
   "metadata": {},
   "outputs": [
    {
     "data": {
      "text/html": [
       "<pre style=\"white-space:pre;overflow-x:auto;line-height:normal;font-family:Menlo,'DejaVu Sans Mono',consolas,'Courier New',monospace\"><span style=\"color: #800000; text-decoration-color: #800000\">╭─────────────────────────────── </span><span style=\"color: #800000; text-decoration-color: #800000; font-weight: bold\">Traceback </span><span style=\"color: #bf7f7f; text-decoration-color: #bf7f7f; font-weight: bold\">(most recent call last)</span><span style=\"color: #800000; text-decoration-color: #800000\"> ────────────────────────────────╮</span>\n",
       "<span style=\"color: #800000; text-decoration-color: #800000\">│</span> <span style=\"color: #bfbf7f; text-decoration-color: #bfbf7f\">/tmp/ipykernel_344/</span><span style=\"color: #808000; text-decoration-color: #808000; font-weight: bold\">2159714274.py</span>:<span style=\"color: #0000ff; text-decoration-color: #0000ff\">1</span> in <span style=\"color: #00ff00; text-decoration-color: #00ff00\">&lt;module&gt;</span>                                                   <span style=\"color: #800000; text-decoration-color: #800000\">│</span>\n",
       "<span style=\"color: #800000; text-decoration-color: #800000\">│</span>                                                                                                  <span style=\"color: #800000; text-decoration-color: #800000\">│</span>\n",
       "<span style=\"color: #800000; text-decoration-color: #800000\">│</span> <span style=\"color: #800000; text-decoration-color: #800000; font-style: italic\">[Errno 2] No such file or directory: '/tmp/ipykernel_344/2159714274.py'</span>                          <span style=\"color: #800000; text-decoration-color: #800000\">│</span>\n",
       "<span style=\"color: #800000; text-decoration-color: #800000\">╰──────────────────────────────────────────────────────────────────────────────────────────────────╯</span>\n",
       "<span style=\"color: #ff0000; text-decoration-color: #ff0000; font-weight: bold\">NameError: </span>name <span style=\"color: #008000; text-decoration-color: #008000\">'list_all_clusters'</span> is not defined\n",
       "</pre>\n"
      ],
      "text/plain": [
       "\u001b[31m╭─\u001b[0m\u001b[31m──────────────────────────────\u001b[0m\u001b[31m \u001b[0m\u001b[1;31mTraceback \u001b[0m\u001b[1;2;31m(most recent call last)\u001b[0m\u001b[31m \u001b[0m\u001b[31m───────────────────────────────\u001b[0m\u001b[31m─╮\u001b[0m\n",
       "\u001b[31m│\u001b[0m \u001b[2;33m/tmp/ipykernel_344/\u001b[0m\u001b[1;33m2159714274.py\u001b[0m:\u001b[94m1\u001b[0m in \u001b[92m<module>\u001b[0m                                                   \u001b[31m│\u001b[0m\n",
       "\u001b[31m│\u001b[0m                                                                                                  \u001b[31m│\u001b[0m\n",
       "\u001b[31m│\u001b[0m \u001b[3;31m[Errno 2] No such file or directory: '/tmp/ipykernel_344/2159714274.py'\u001b[0m                          \u001b[31m│\u001b[0m\n",
       "\u001b[31m╰──────────────────────────────────────────────────────────────────────────────────────────────────╯\u001b[0m\n",
       "\u001b[1;91mNameError: \u001b[0mname \u001b[32m'list_all_clusters'\u001b[0m is not defined\n"
      ]
     },
     "metadata": {},
     "output_type": "display_data"
    }
   ],
   "source": [
    "cf.cluster.cluster.list_all_clusters('default')"
   ]
  },
  {
   "cell_type": "markdown",
   "id": "a3e007d9-70e1-4296-a627-ee09b189a894",
   "metadata": {},
   "source": [
    "## Step 0: Prep"
   ]
  },
  {
   "cell_type": "code",
   "execution_count": 26,
   "id": "c5c2936c-7228-42fd-af3e-673ded59387c",
   "metadata": {},
   "outputs": [
    {
     "name": "stdout",
     "output_type": "stream",
     "text": [
      "/opt/app-root/src/text-to-image-demo\n"
     ]
    }
   ],
   "source": [
    "!pwd"
   ]
  },
  {
   "cell_type": "code",
   "execution_count": null,
   "id": "9f508910",
   "metadata": {},
   "outputs": [],
   "source": [
    "# THIS IS ORIGINAL\n",
    "\n",
    "# TODO: If running on multiple nodes, change this path to a shared directory (ex: NFS)\n",
    "!export DATA_PREFIX=\"/opt/app-root/src/text-to-image-demo/dim-dreambooth\"\n",
    "!export ORIG_MODEL_NAME=\"CompVis/stable-diffusion-v1-4\"\n",
    "!export ORIG_MODEL_HASH=\"b95be7d6f134c3a9e62ee616f310733567f069ce\"\n",
    "!export ORIG_MODEL_DIR=\"$DATA_PREFIX/model-orig\"\n",
    "!export ORIG_MODEL_PATH=\"$ORIG_MODEL_DIR/models--${ORIG_MODEL_NAME/\\//--}/snapshots/$ORIG_MODEL_HASH\"\n",
    "!export TUNED_MODEL_DIR=\"$DATA_PREFIX/model-tuned\"\n",
    "!export IMAGES_REG_DIR=\"$DATA_PREFIX/images-reg\"\n",
    "!export IMAGES_OWN_DIR=\"$DATA_PREFIX/images-own\"\n",
    "!export IMAGES_NEW_DIR=\"$DATA_PREFIX/images-new\"\n",
    "# TODO: Add more worker nodes and increase NUM_WORKERS for more data-parallelism\n",
    "!export NUM_WORKERS=2\n",
    "\n",
    "# !mkdir -p \n",
    "!echo $ORIG_MODEL_DIR \n",
    "# $TUNED_MODEL_DIR $IMAGES_REG_DIR $IMAGES_OWN_DIR $IMAGES_NEW_DIR\n",
    "!mkdir -p $ORIG_MODEL_DIR $TUNED_MODEL_DIR $IMAGES_REG_DIR $IMAGES_OWN_DIR $IMAGES_NEW_DIR"
   ]
  },
  {
   "cell_type": "code",
   "execution_count": 30,
   "id": "47d998bb-dbe4-416a-8b33-7c820219f663",
   "metadata": {},
   "outputs": [],
   "source": [
    "# THIS IS ORIGINAL\n",
    "\n",
    "# TODO: If running on multiple nodes, change this path to a shared directory (ex: NFS)\n",
    "DATA_PREFIX=\"/opt/app-root/src/text-to-image-demo/dim-dreambooth\"\n",
    "ORIG_MODEL_NAME=\"CompVis/stable-diffusion-v1-4\"\n",
    "ORIG_MODEL_HASH=\"b95be7d6f134c3a9e62ee616f310733567f069ce\"\n",
    "ORIG_MODEL_DIR=\"$DATA_PREFIX/model-orig\"\n",
    "ORIG_MODEL_PATH=\"$ORIG_MODEL_DIR/models--${ORIG_MODEL_NAME/\\//--}/snapshots/$ORIG_MODEL_HASH\"\n",
    "TUNED_MODEL_DIR=\"$DATA_PREFIX/model-tuned\"\n",
    "IMAGES_REG_DIR=\"$DATA_PREFIX/images-reg\"\n",
    "IMAGES_OWN_DIR=\"$DATA_PREFIX/images-own\"\n",
    "IMAGES_NEW_DIR=\"$DATA_PREFIX/images-new\"\n",
    "# TODO: Add more worker nodes and increase NUM_WORKERS for more data-parallelism\n",
    "!export NUM_WORKERS=2\n",
    "\n",
    "os.makedirs(ORIG_MODEL_DIR, exist_ok=True)\n",
    "os.makedirs(TUNED_MODEL_DIR, exist_ok=True)\n",
    "os.makedirs(IMAGES_REG_DIR, exist_ok=True)\n",
    "os.makedirs(IMAGES_OWN_DIR, exist_ok=True)\n",
    "os.makedirs(IMAGES_NEW_DIR, exist_ok=True)"
   ]
  },
  {
   "cell_type": "code",
   "execution_count": 33,
   "id": "fb101c35-e135-46b4-ad7c-1e6d5d8d3170",
   "metadata": {},
   "outputs": [],
   "source": [
    "!export DATA_PREFIX=\"/opt/app-root/src/text-to-image-demo/dim-dreambooth\"\n",
    "!export ORIG_MODEL_DIR=\"$DATA_PREFIX/model-orig\"\n",
    "!export ORIG_MODEL_NAME=\"CompVis/stable-diffusion-v1-4\"\n",
    "!export ORIG_MODEL_HASH=\"b95be7d6f134c3a9e62ee616f310733567f069ce\"\n"
   ]
  },
  {
   "cell_type": "code",
   "execution_count": 34,
   "id": "9c7452d4-95b8-415c-bbc7-e81d54326b04",
   "metadata": {},
   "outputs": [
    {
     "name": "stdout",
     "output_type": "stream",
     "text": [
      "/opt/app-root/src/text-to-image-demo/dim-dreambooth\n",
      "CompVis/stable-diffusion-v1-4\n",
      "b95be7d6f134c3a9e62ee616f310733567f069ce\n"
     ]
    }
   ],
   "source": [
    "!echo $DATA_PREFIX\n",
    "!echo $ORIG_MODEL_NAME\n",
    "!echo $ORIG_MODEL_HASH"
   ]
  },
  {
   "cell_type": "markdown",
   "id": "48ccc9d0-0ccd-42bb-b232-f260b25998ed",
   "metadata": {},
   "source": [
    "## Step 1: Download the pre-trained model"
   ]
  },
  {
   "cell_type": "code",
   "execution_count": 35,
   "id": "425524b7-e87e-4ff6-9348-266ba79d5742",
   "metadata": {},
   "outputs": [
    {
     "name": "stdout",
     "output_type": "stream",
     "text": [
      "/opt/app-root/src/text-to-image-demo/dim-dreambooth/dreambooth\n"
     ]
    }
   ],
   "source": [
    "!pwd"
   ]
  },
  {
   "cell_type": "code",
   "execution_count": 42,
   "id": "ef10c2f8-ec6f-40d0-9179-3606785573ba",
   "metadata": {},
   "outputs": [],
   "source": [
    "# !python cache_model.py --model_dir=$ORIG_MODEL_DIR --model_name=$ORIG_MODEL_NAME --revision=$ORIG_MODEL_HASH"
   ]
  },
  {
   "cell_type": "markdown",
   "id": "54ae8097-4d94-425c-aa3a-590ec6ba2c9f",
   "metadata": {},
   "source": [
    "## Step 2: Supply images of your subject"
   ]
  },
  {
   "cell_type": "code",
   "execution_count": 39,
   "id": "a3f7d528-a692-4f35-a33e-b19851c0a689",
   "metadata": {},
   "outputs": [],
   "source": [
    "  # Only uncomment one of the following:\n",
    "\n",
    "  # Option 1: Use the dog dataset ---------\n",
    "  # export CLASS_NAME=\"dog\"\n",
    "  # python download_example_dataset.py ./images/dog\n",
    "  # export INSTANCE_DIR=./images/dog\n",
    "  # ---------------------------------------\n",
    "\n",
    "  # Option 2: Use the lego car dataset ----\n",
    "  !export CLASS_NAME=\"car\"\n",
    "  !export INSTANCE_DIR=./images/lego-car\n",
    "  # ---------------------------------------\n",
    "\n",
    "  # Option 3: Use your own images ---------\n",
    "  # export CLASS_NAME=\"<class-of-your-subject>\"\n",
    "  # export INSTANCE_DIR=\"/path/to/images/of/subject\"\n",
    "  # ---------------------------------------\n",
    "\n",
    "  # Copy own images into IMAGES_OWN_DIR\n",
    "  # cp -rf $INSTANCE_DIR/* \"$IMAGES_OWN_DIR/\""
   ]
  },
  {
   "cell_type": "markdown",
   "id": "5c7154fa-9afe-498d-b714-b710742ea2b3",
   "metadata": {},
   "source": [
    "## Step 3: Create the regularization images"
   ]
  },
  {
   "cell_type": "code",
   "execution_count": 50,
   "id": "365c105f-adcb-4c4c-a74a-04118a123aa1",
   "metadata": {},
   "outputs": [],
   "source": [
    "import hashlib\n",
    "from os import path\n",
    "\n",
    "import time\n",
    "import torch\n",
    "import ray\n",
    "\n",
    "from flags import run_model_flags\n",
    "from generate_utils import get_pipeline\n"
   ]
  },
  {
   "cell_type": "code",
   "execution_count": null,
   "id": "fed1b659-0dda-45ca-827b-c83189499e11",
   "metadata": {},
   "outputs": [],
   "source": [
    "def __init__(self, model_dir, output_dir, lora_weights_dir=None):\n",
    "    print(f\"Loading model from {model_dir}\")\n",
    "    self.pipeline = get_pipeline(model_dir, lora_weights_dir)\n",
    "    self.pipeline.set_progress_bar_config(disable=True)\n",
    "    if torch.cuda.is_available():\n",
    "        self.pipeline.to(\"cuda\")\n",
    "    self.output_dir = output_dir\n",
    "\n",
    "def __call__(self, batch):\n",
    "    filenames = []\n",
    "    for i, prompt in zip(batch[\"idx\"], batch[\"prompt\"]):\n",
    "        # Generate 1 image at a time to reduce memory consumption.\n",
    "        for image in self.pipeline(prompt).images:\n",
    "            hash_image = hashlib.sha1(image.tobytes()).hexdigest()\n",
    "            image_filename = path.join(self.output_dir, f\"{i}-{hash_image}.jpg\")\n",
    "            image.save(image_filename)\n",
    "            print(f\"Saved {image_filename}\")\n",
    "            filenames.append(image_filename)\n",
    "    return {\"filename\": filenames}\n",
    "\n",
    "prompts = args.prompts.split(\",\")\n",
    "\n",
    "start_time = time.time()\n",
    "num_samples = len(prompts) * args.num_samples_per_prompt\n",
    "\n",
    "if args.use_ray_data:\n",
    "# Use Ray Data to perform batch inference to generate many images in parallel\n",
    "prompts_with_idxs = []\n",
    "for prompt in prompts:\n",
    "    prompts_with_idxs.extend(\n",
    "        [\n",
    "            {\"idx\": i, \"prompt\": prompt}\n",
    "            for i in range(args.num_samples_per_prompt)\n",
    "        ]\n",
    "    )\n",
    "\n",
    "prompt_ds = ray.data.from_items(prompts_with_idxs)\n",
    "num_workers = 4\n",
    "\n",
    "# Run the batch inference by consuming output with `take_all`.\n",
    "prompt_ds.map_batches(\n",
    "    StableDiffusionCallable,\n",
    "    compute=ray.data.ActorPoolStrategy(size=num_workers),\n",
    "    fn_constructor_args=(args.model_dir, args.output_dir),\n",
    "    num_gpus=1,\n",
    "    batch_size=num_samples // num_workers,\n",
    ").take_all()\n",
    "\n",
    "else:\n",
    "# Generate images one by one\n",
    "stable_diffusion_predictor = StableDiffusionCallable(\n",
    "    args.model_dir, args.output_dir, args.lora_weights_dir\n",
    ")\n",
    "for prompt in prompts:\n",
    "    for i in range(args.num_samples_per_prompt):\n",
    "        stable_diffusion_predictor({\"idx\": [i], \"prompt\": [prompt]})\n",
    "\n",
    "elapsed = time.time() - start_time\n",
    "print(\n",
    "f\"Generated and saved {num_samples} images to {args.output_dir} in \"\n",
    "f\"{elapsed} seconds.\"\n",
    ")"
   ]
  },
  {
   "cell_type": "code",
   "execution_count": 51,
   "id": "139be686-9907-4894-be6a-58b62d478a13",
   "metadata": {},
   "outputs": [
    {
     "name": "stdout",
     "output_type": "stream",
     "text": [
      "Collecting pyarrow\n",
      "  Downloading pyarrow-13.0.0-cp39-cp39-manylinux_2_28_x86_64.whl (40.1 MB)\n",
      "\u001b[2K     \u001b[90m━━━━━━━━━━━━━━━━━━━━━━━━━━━━━━━━━━━━━━━\u001b[0m \u001b[32m40.1/40.1 MB\u001b[0m \u001b[31m282.7 MB/s\u001b[0m eta \u001b[36m0:00:00\u001b[0ma \u001b[36m0:00:01\u001b[0m\n",
      "\u001b[?25hRequirement already satisfied: numpy>=1.16.6 in /opt/app-root/lib/python3.9/site-packages (from pyarrow) (1.24.4)\n",
      "Installing collected packages: pyarrow\n",
      "Successfully installed pyarrow-13.0.0\n",
      "\n",
      "\u001b[1m[\u001b[0m\u001b[34;49mnotice\u001b[0m\u001b[1;39;49m]\u001b[0m\u001b[39;49m A new release of pip available: \u001b[0m\u001b[31;49m22.2.2\u001b[0m\u001b[39;49m -> \u001b[0m\u001b[32;49m23.2.1\u001b[0m\n",
      "\u001b[1m[\u001b[0m\u001b[34;49mnotice\u001b[0m\u001b[1;39;49m]\u001b[0m\u001b[39;49m To update, run: \u001b[0m\u001b[32;49mpip install --upgrade pip\u001b[0m\n"
     ]
    }
   ],
   "source": [
    "!pip install pyarrow"
   ]
  },
  {
   "cell_type": "markdown",
   "id": "6379beba-f317-4a7f-b92f-1b2e7739512b",
   "metadata": {},
   "source": [
    "the following is for script"
   ]
  },
  {
   "cell_type": "code",
   "execution_count": null,
   "id": "80743b30",
   "metadata": {},
   "outputs": [],
   "source": [
    "# Only uncomment one of the following:\n",
    "\n",
    "# Option 1: Use the dog dataset ---------\n",
    "export CLASS_NAME=\"dog\"\n",
    "python download_example_dataset.py ./images/dog\n",
    "export INSTANCE_DIR=./images/dog\n",
    "# ---------------------------------------\n",
    "\n",
    "# Option 2: Use the lego car dataset ----\n",
    "# export CLASS_NAME=\"car\"\n",
    "# export INSTANCE_DIR=./images/lego-car\n",
    "# ---------------------------------------\n",
    "\n",
    "# Option 3: Use your own images ---------\n",
    "# export CLASS_NAME=\"<class-of-your-subject>\"\n",
    "# export INSTANCE_DIR=\"/path/to/images/of/subject\"\n",
    "# ---------------------------------------\n",
    "\n",
    "# Copy own images into IMAGES_OWN_DIR\n",
    "cp -rf $INSTANCE_DIR/* \"$IMAGES_OWN_DIR/\""
   ]
  },
  {
   "cell_type": "code",
   "execution_count": 52,
   "id": "740f7c89-a630-4371-88f2-fd56b0250cd4",
   "metadata": {},
   "outputs": [
    {
     "name": "stdout",
     "output_type": "stream",
     "text": [
      "2023-10-06 18:55:10,033\tINFO worker.py:1627 -- Started a local Ray instance. View the dashboard at \u001b[1m\u001b[32m127.0.0.1:8265 \u001b[39m\u001b[22m\n",
      "2023-10-06 18:55:11,366\tWARNING dataset.py:253 -- \u001b[33mImportant: Ray Data requires schemas for all datasets in Ray 2.5. This means that standalone Python objects are no longer supported. In addition, the default batch format is fixed to NumPy. To revert to legacy behavior temporarily, set the environment variable RAY_DATA_STRICT_MODE=0 on all cluster processes.\n",
      "\n",
      "Learn more here: https://docs.ray.io/en/master/data/faq.html#migrating-to-strict-mode\u001b[0m\n",
      "2023-10-06 18:55:11,373\tINFO streaming_executor.py:91 -- Executing DAG InputDataBuffer[Input] -> ActorPoolMapOperator[MapBatches(StableDiffusionCallable)]\n",
      "2023-10-06 18:55:11,373\tINFO streaming_executor.py:92 -- Execution config: ExecutionOptions(resource_limits=ExecutionResources(cpu=None, gpu=None, object_store_memory=None), locality_with_output=False, preserve_order=False, actor_locality_enabled=True, verbose_progress=False)\n",
      "2023-10-06 18:55:11,374\tINFO streaming_executor.py:94 -- Tip: For detailed progress reporting, run `ray.data.DataContext.get_current().execution_options.verbose_progress = True`\n",
      "\u001b[31m╭─\u001b[0m\u001b[31m────────────────────\u001b[0m\u001b[31m \u001b[0m\u001b[1;31mTraceback \u001b[0m\u001b[1;2;31m(most recent call last)\u001b[0m\u001b[31m \u001b[0m\u001b[31m─────────────────────\u001b[0m\u001b[31m─╮\u001b[0m\n",
      "\u001b[31m│\u001b[0m \u001b[2;33m/opt/app-root/src/text-to-image-demo/dim-dreambooth/dreambooth/\u001b[0m\u001b[1;33mgenerate.py\u001b[0m:\u001b[94m8\u001b[0m \u001b[31m│\u001b[0m\n",
      "\u001b[31m│\u001b[0m \u001b[94m0\u001b[0m in \u001b[92m<module>\u001b[0m                                                                \u001b[31m│\u001b[0m\n",
      "\u001b[31m│\u001b[0m                                                                              \u001b[31m│\u001b[0m\n",
      "\u001b[31m│\u001b[0m   \u001b[2m77 \u001b[0m                                                                        \u001b[31m│\u001b[0m\n",
      "\u001b[31m│\u001b[0m   \u001b[2m78 \u001b[0m\u001b[94mif\u001b[0m \u001b[91m__name__\u001b[0m == \u001b[33m\"\u001b[0m\u001b[33m__main__\u001b[0m\u001b[33m\"\u001b[0m:                                              \u001b[31m│\u001b[0m\n",
      "\u001b[31m│\u001b[0m   \u001b[2m79 \u001b[0m\u001b[2m│   \u001b[0margs = run_model_flags().parse_args()                               \u001b[31m│\u001b[0m\n",
      "\u001b[31m│\u001b[0m \u001b[31m❱ \u001b[0m80 \u001b[2m│   \u001b[0mrun(args)                                                           \u001b[31m│\u001b[0m\n",
      "\u001b[31m│\u001b[0m   \u001b[2m81 \u001b[0m                                                                        \u001b[31m│\u001b[0m\n",
      "\u001b[31m│\u001b[0m                                                                              \u001b[31m│\u001b[0m\n",
      "\u001b[31m│\u001b[0m \u001b[2;33m/opt/app-root/src/text-to-image-demo/dim-dreambooth/dreambooth/\u001b[0m\u001b[1;33mgenerate.py\u001b[0m:\u001b[94m5\u001b[0m \u001b[31m│\u001b[0m\n",
      "\u001b[31m│\u001b[0m \u001b[94m4\u001b[0m in \u001b[92mrun\u001b[0m                                                                     \u001b[31m│\u001b[0m\n",
      "\u001b[31m│\u001b[0m                                                                              \u001b[31m│\u001b[0m\n",
      "\u001b[31m│\u001b[0m   \u001b[2m51 \u001b[0m\u001b[2m│   │   \u001b[0mnum_workers = \u001b[94m4\u001b[0m                                                 \u001b[31m│\u001b[0m\n",
      "\u001b[31m│\u001b[0m   \u001b[2m52 \u001b[0m\u001b[2m│   │   \u001b[0m                                                                \u001b[31m│\u001b[0m\n",
      "\u001b[31m│\u001b[0m   \u001b[2m53 \u001b[0m\u001b[2m│   │   \u001b[0m\u001b[2m# Run the batch inference by consuming output with `take_all`.\u001b[0m  \u001b[31m│\u001b[0m\n",
      "\u001b[31m│\u001b[0m \u001b[31m❱ \u001b[0m54 \u001b[2m│   │   \u001b[0mprompt_ds.map_batches(                                          \u001b[31m│\u001b[0m\n",
      "\u001b[31m│\u001b[0m   \u001b[2m55 \u001b[0m\u001b[2m│   │   │   \u001b[0mStableDiffusionCallable,                                    \u001b[31m│\u001b[0m\n",
      "\u001b[31m│\u001b[0m   \u001b[2m56 \u001b[0m\u001b[2m│   │   │   \u001b[0mcompute=ray.data.ActorPoolStrategy(size=num_workers),       \u001b[31m│\u001b[0m\n",
      "\u001b[31m│\u001b[0m   \u001b[2m57 \u001b[0m\u001b[2m│   │   │   \u001b[0mfn_constructor_args=(args.model_dir, args.output_dir),      \u001b[31m│\u001b[0m\n",
      "\u001b[31m│\u001b[0m                                                                              \u001b[31m│\u001b[0m\n",
      "\u001b[31m│\u001b[0m \u001b[2;33m/opt/app-root/lib64/python3.9/site-packages/ray/data/\u001b[0m\u001b[1;33mdataset.py\u001b[0m:\u001b[94m2112\u001b[0m in      \u001b[31m│\u001b[0m\n",
      "\u001b[31m│\u001b[0m \u001b[92mtake_all\u001b[0m                                                                     \u001b[31m│\u001b[0m\n",
      "\u001b[31m│\u001b[0m                                                                              \u001b[31m│\u001b[0m\n",
      "\u001b[31m│\u001b[0m   \u001b[2m2109 \u001b[0m\u001b[2;33m│   │   │   \u001b[0m\u001b[33mA list of all the records in the dataset.\u001b[0m                 \u001b[31m│\u001b[0m\n",
      "\u001b[31m│\u001b[0m   \u001b[2m2110 \u001b[0m\u001b[2;33m│   │   \u001b[0m\u001b[33m\"\"\"\u001b[0m                                                           \u001b[31m│\u001b[0m\n",
      "\u001b[31m│\u001b[0m   \u001b[2m2111 \u001b[0m\u001b[2m│   │   \u001b[0moutput = []                                                   \u001b[31m│\u001b[0m\n",
      "\u001b[31m│\u001b[0m \u001b[31m❱ \u001b[0m2112 \u001b[2m│   │   \u001b[0m\u001b[94mfor\u001b[0m row \u001b[95min\u001b[0m \u001b[96mself\u001b[0m.iter_rows():                                  \u001b[31m│\u001b[0m\n",
      "\u001b[31m│\u001b[0m   \u001b[2m2113 \u001b[0m\u001b[2m│   │   │   \u001b[0moutput.append(row)                                        \u001b[31m│\u001b[0m\n",
      "\u001b[31m│\u001b[0m   \u001b[2m2114 \u001b[0m\u001b[2m│   │   │   \u001b[0m\u001b[94mif\u001b[0m limit \u001b[95mis\u001b[0m \u001b[95mnot\u001b[0m \u001b[94mNone\u001b[0m \u001b[95mand\u001b[0m \u001b[96mlen\u001b[0m(output) > limit:             \u001b[31m│\u001b[0m\n",
      "\u001b[31m│\u001b[0m   \u001b[2m2115 \u001b[0m\u001b[2m│   │   │   │   \u001b[0m\u001b[94mraise\u001b[0m \u001b[96mValueError\u001b[0m(                                     \u001b[31m│\u001b[0m\n",
      "\u001b[31m│\u001b[0m                                                                              \u001b[31m│\u001b[0m\n",
      "\u001b[31m│\u001b[0m \u001b[2;33m/opt/app-root/lib64/python3.9/site-packages/ray/data/\u001b[0m\u001b[1;33miterator.py\u001b[0m:\u001b[94m225\u001b[0m in      \u001b[31m│\u001b[0m\n",
      "\u001b[31m│\u001b[0m \u001b[92miter_rows\u001b[0m                                                                    \u001b[31m│\u001b[0m\n",
      "\u001b[31m│\u001b[0m                                                                              \u001b[31m│\u001b[0m\n",
      "\u001b[31m│\u001b[0m   \u001b[2m222 \u001b[0m\u001b[2m│   │   │   \u001b[0m\u001b[2m# Since batch_size is None, 1 block is exactly 1 batch.\u001b[0m    \u001b[31m│\u001b[0m\n",
      "\u001b[31m│\u001b[0m   \u001b[2m223 \u001b[0m\u001b[2m│   │   │   \u001b[0miter_batch_args[\u001b[33m\"\u001b[0m\u001b[33mprefetch_batches\u001b[0m\u001b[33m\"\u001b[0m] = prefetch_blocks      \u001b[31m│\u001b[0m\n",
      "\u001b[31m│\u001b[0m   \u001b[2m224 \u001b[0m\u001b[2m│   │   \u001b[0m                                                               \u001b[31m│\u001b[0m\n",
      "\u001b[31m│\u001b[0m \u001b[31m❱ \u001b[0m225 \u001b[2m│   │   \u001b[0m\u001b[94mfor\u001b[0m batch \u001b[95min\u001b[0m \u001b[96mself\u001b[0m.iter_batches(**iter_batch_args):             \u001b[31m│\u001b[0m\n",
      "\u001b[31m│\u001b[0m   \u001b[2m226 \u001b[0m\u001b[2m│   │   │   \u001b[0mbatch = BlockAccessor.for_block(BlockAccessor.batch_to_blo \u001b[31m│\u001b[0m\n",
      "\u001b[31m│\u001b[0m   \u001b[2m227 \u001b[0m\u001b[2m│   │   │   \u001b[0m\u001b[94mfor\u001b[0m row \u001b[95min\u001b[0m batch.iter_rows(public_row_format=\u001b[94mTrue\u001b[0m):        \u001b[31m│\u001b[0m\n",
      "\u001b[31m│\u001b[0m   \u001b[2m228 \u001b[0m\u001b[2m│   │   │   │   \u001b[0m\u001b[94myield\u001b[0m row                                              \u001b[31m│\u001b[0m\n",
      "\u001b[31m│\u001b[0m                                                                              \u001b[31m│\u001b[0m\n",
      "\u001b[31m│\u001b[0m \u001b[2;33m/opt/app-root/lib64/python3.9/site-packages/ray/data/\u001b[0m\u001b[1;33miterator.py\u001b[0m:\u001b[94m158\u001b[0m in      \u001b[31m│\u001b[0m\n",
      "\u001b[31m│\u001b[0m \u001b[92miter_batches\u001b[0m                                                                 \u001b[31m│\u001b[0m\n",
      "\u001b[31m│\u001b[0m                                                                              \u001b[31m│\u001b[0m\n",
      "\u001b[31m│\u001b[0m   \u001b[2m155 \u001b[0m\u001b[2m│   │   \u001b[0m                                                               \u001b[31m│\u001b[0m\n",
      "\u001b[31m│\u001b[0m   \u001b[2m156 \u001b[0m\u001b[2m│   │   \u001b[0mtime_start = time.perf_counter()                               \u001b[31m│\u001b[0m\n",
      "\u001b[31m│\u001b[0m   \u001b[2m157 \u001b[0m\u001b[2m│   │   \u001b[0m                                                               \u001b[31m│\u001b[0m\n",
      "\u001b[31m│\u001b[0m \u001b[31m❱ \u001b[0m158 \u001b[2m│   │   \u001b[0mblock_iterator, stats, blocks_owned_by_consumer = \u001b[96mself\u001b[0m._to_blo \u001b[31m│\u001b[0m\n",
      "\u001b[31m│\u001b[0m   \u001b[2m159 \u001b[0m\u001b[2m│   │   \u001b[0m\u001b[94mif\u001b[0m use_legacy:                                                 \u001b[31m│\u001b[0m\n",
      "\u001b[31m│\u001b[0m   \u001b[2m160 \u001b[0m\u001b[2m│   │   │   \u001b[0m\u001b[2m# Legacy iter_batches does not use metadata.\u001b[0m               \u001b[31m│\u001b[0m\n",
      "\u001b[31m│\u001b[0m   \u001b[2m161 \u001b[0m\u001b[2m│   │   │   \u001b[0m\u001b[94mdef\u001b[0m \u001b[92mdrop_metadata\u001b[0m(block_iterator):                         \u001b[31m│\u001b[0m\n",
      "\u001b[31m│\u001b[0m                                                                              \u001b[31m│\u001b[0m\n",
      "\u001b[31m│\u001b[0m \u001b[2;33m/opt/app-root/lib64/python3.9/site-packages/ray/data/_internal/iterator/\u001b[0m\u001b[1;33miter\u001b[0m \u001b[31m│\u001b[0m\n",
      "\u001b[31m│\u001b[0m \u001b[1;33mator_impl.py\u001b[0m:\u001b[94m31\u001b[0m in \u001b[92m_to_block_iterator\u001b[0m                                        \u001b[31m│\u001b[0m\n",
      "\u001b[31m│\u001b[0m                                                                              \u001b[31m│\u001b[0m\n",
      "\u001b[31m│\u001b[0m   \u001b[2m28 \u001b[0m\u001b[2m│   │   \u001b[0m\u001b[96mbool\u001b[0m,                                                           \u001b[31m│\u001b[0m\n",
      "\u001b[31m│\u001b[0m   \u001b[2m29 \u001b[0m\u001b[2m│   \u001b[0m]:                                                                  \u001b[31m│\u001b[0m\n",
      "\u001b[31m│\u001b[0m   \u001b[2m30 \u001b[0m\u001b[2m│   │   \u001b[0mds = \u001b[96mself\u001b[0m._base_dataset                                         \u001b[31m│\u001b[0m\n",
      "\u001b[31m│\u001b[0m \u001b[31m❱ \u001b[0m31 \u001b[2m│   │   \u001b[0mblock_iterator, stats, executor = ds._plan.execute_to_iterator( \u001b[31m│\u001b[0m\n",
      "\u001b[31m│\u001b[0m   \u001b[2m32 \u001b[0m\u001b[2m│   │   \u001b[0mds._current_executor = executor                                 \u001b[31m│\u001b[0m\n",
      "\u001b[31m│\u001b[0m   \u001b[2m33 \u001b[0m\u001b[2m│   │   \u001b[0m\u001b[94mreturn\u001b[0m block_iterator, stats, \u001b[94mFalse\u001b[0m                             \u001b[31m│\u001b[0m\n",
      "\u001b[31m│\u001b[0m   \u001b[2m34 \u001b[0m                                                                        \u001b[31m│\u001b[0m\n",
      "\u001b[31m│\u001b[0m                                                                              \u001b[31m│\u001b[0m\n",
      "\u001b[31m│\u001b[0m \u001b[2;33m/opt/app-root/lib64/python3.9/site-packages/ray/data/_internal/\u001b[0m\u001b[1;33mplan.py\u001b[0m:\u001b[94m518\u001b[0m   \u001b[31m│\u001b[0m\n",
      "\u001b[31m│\u001b[0m in \u001b[92mexecute_to_iterator\u001b[0m                                                       \u001b[31m│\u001b[0m\n",
      "\u001b[31m│\u001b[0m                                                                              \u001b[31m│\u001b[0m\n",
      "\u001b[31m│\u001b[0m   \u001b[2m 515 \u001b[0m\u001b[2m│   │   \u001b[0m\u001b[2m# value, force execution of one bundle before we call get_sta\u001b[0m \u001b[31m│\u001b[0m\n",
      "\u001b[31m│\u001b[0m   \u001b[2m 516 \u001b[0m\u001b[2m│   │   \u001b[0mgen = \u001b[96miter\u001b[0m(block_iter)                                        \u001b[31m│\u001b[0m\n",
      "\u001b[31m│\u001b[0m   \u001b[2m 517 \u001b[0m\u001b[2m│   │   \u001b[0m\u001b[94mtry\u001b[0m:                                                          \u001b[31m│\u001b[0m\n",
      "\u001b[31m│\u001b[0m \u001b[31m❱ \u001b[0m 518 \u001b[2m│   │   │   \u001b[0mblock_iter = itertools.chain([\u001b[96mnext\u001b[0m(gen)], gen)            \u001b[31m│\u001b[0m\n",
      "\u001b[31m│\u001b[0m   \u001b[2m 519 \u001b[0m\u001b[2m│   │   \u001b[0m\u001b[94mexcept\u001b[0m \u001b[96mStopIteration\u001b[0m:                                         \u001b[31m│\u001b[0m\n",
      "\u001b[31m│\u001b[0m   \u001b[2m 520 \u001b[0m\u001b[2m│   │   │   \u001b[0m\u001b[94mpass\u001b[0m                                                      \u001b[31m│\u001b[0m\n",
      "\u001b[31m│\u001b[0m   \u001b[2m 521 \u001b[0m\u001b[2m│   │   \u001b[0m\u001b[96mself\u001b[0m._snapshot_stats = executor.get_stats()                   \u001b[31m│\u001b[0m\n",
      "\u001b[31m│\u001b[0m                                                                              \u001b[31m│\u001b[0m\n",
      "\u001b[31m│\u001b[0m \u001b[2;33m/opt/app-root/lib64/python3.9/site-packages/ray/data/_internal/execution/\u001b[0m\u001b[1;33mleg\u001b[0m \u001b[31m│\u001b[0m\n",
      "\u001b[31m│\u001b[0m \u001b[1;33macy_compat.py\u001b[0m:\u001b[94m53\u001b[0m in \u001b[92mexecute_to_legacy_block_iterator\u001b[0m                         \u001b[31m│\u001b[0m\n",
      "\u001b[31m│\u001b[0m                                                                              \u001b[31m│\u001b[0m\n",
      "\u001b[31m│\u001b[0m   \u001b[2m 50 \u001b[0m\u001b[2m│   \u001b[0mdataset_uuid: \u001b[96mstr\u001b[0m,                                                 \u001b[31m│\u001b[0m\n",
      "\u001b[31m│\u001b[0m   \u001b[2m 51 \u001b[0m) -> Iterator[Tuple[ObjectRef[Block], BlockMetadata]]:                 \u001b[31m│\u001b[0m\n",
      "\u001b[31m│\u001b[0m   \u001b[2m 52 \u001b[0m\u001b[2;90m│   \u001b[0m\u001b[33m\"\"\"Same as execute_to_legacy_bundle_iterator but returning blocks \u001b[0m \u001b[31m│\u001b[0m\n",
      "\u001b[31m│\u001b[0m \u001b[31m❱ \u001b[0m 53 \u001b[2m│   \u001b[0mbundle_iter = execute_to_legacy_bundle_iterator(                   \u001b[31m│\u001b[0m\n",
      "\u001b[31m│\u001b[0m   \u001b[2m 54 \u001b[0m\u001b[2m│   │   \u001b[0mexecutor, plan, allow_clear_input_blocks, dataset_uuid         \u001b[31m│\u001b[0m\n",
      "\u001b[31m│\u001b[0m   \u001b[2m 55 \u001b[0m\u001b[2m│   \u001b[0m)                                                                  \u001b[31m│\u001b[0m\n",
      "\u001b[31m│\u001b[0m   \u001b[2m 56 \u001b[0m\u001b[2m│   \u001b[0m\u001b[94mfor\u001b[0m bundle \u001b[95min\u001b[0m bundle_iter:                                         \u001b[31m│\u001b[0m\n",
      "\u001b[31m│\u001b[0m                                                                              \u001b[31m│\u001b[0m\n",
      "\u001b[31m│\u001b[0m \u001b[2;33m/opt/app-root/lib64/python3.9/site-packages/ray/data/_internal/execution/\u001b[0m\u001b[1;33mleg\u001b[0m \u001b[31m│\u001b[0m\n",
      "\u001b[31m│\u001b[0m \u001b[1;33macy_compat.py\u001b[0m:\u001b[94m91\u001b[0m in \u001b[92mexecute_to_legacy_bundle_iterator\u001b[0m                        \u001b[31m│\u001b[0m\n",
      "\u001b[31m│\u001b[0m                                                                              \u001b[31m│\u001b[0m\n",
      "\u001b[31m│\u001b[0m   \u001b[2m 88 \u001b[0m\u001b[2m│   \u001b[0m\u001b[94mif\u001b[0m dag_rewrite:                                                    \u001b[31m│\u001b[0m\n",
      "\u001b[31m│\u001b[0m   \u001b[2m 89 \u001b[0m\u001b[2m│   │   \u001b[0mdag = dag_rewrite(dag)                                         \u001b[31m│\u001b[0m\n",
      "\u001b[31m│\u001b[0m   \u001b[2m 90 \u001b[0m\u001b[2m│   \u001b[0m                                                                   \u001b[31m│\u001b[0m\n",
      "\u001b[31m│\u001b[0m \u001b[31m❱ \u001b[0m 91 \u001b[2m│   \u001b[0mbundle_iter = executor.execute(dag, initial_stats=stats)           \u001b[31m│\u001b[0m\n",
      "\u001b[31m│\u001b[0m   \u001b[2m 92 \u001b[0m\u001b[2m│   \u001b[0m\u001b[94mreturn\u001b[0m bundle_iter                                                 \u001b[31m│\u001b[0m\n",
      "\u001b[31m│\u001b[0m   \u001b[2m 93 \u001b[0m                                                                       \u001b[31m│\u001b[0m\n",
      "\u001b[31m│\u001b[0m   \u001b[2m 94 \u001b[0m                                                                       \u001b[31m│\u001b[0m\n",
      "\u001b[31m│\u001b[0m                                                                              \u001b[31m│\u001b[0m\n",
      "\u001b[31m│\u001b[0m \u001b[2;33m/opt/app-root/lib64/python3.9/site-packages/ray/data/_internal/execution/\u001b[0m\u001b[1;33mstr\u001b[0m \u001b[31m│\u001b[0m\n",
      "\u001b[31m│\u001b[0m \u001b[1;33meaming_executor.py\u001b[0m:\u001b[94m101\u001b[0m in \u001b[92mexecute\u001b[0m                                            \u001b[31m│\u001b[0m\n",
      "\u001b[31m│\u001b[0m                                                                              \u001b[31m│\u001b[0m\n",
      "\u001b[31m│\u001b[0m   \u001b[2m 98 \u001b[0m\u001b[2m│   │   │   │   \u001b[0m)                                                      \u001b[31m│\u001b[0m\n",
      "\u001b[31m│\u001b[0m   \u001b[2m 99 \u001b[0m\u001b[2m│   │   \u001b[0m                                                               \u001b[31m│\u001b[0m\n",
      "\u001b[31m│\u001b[0m   \u001b[2m100 \u001b[0m\u001b[2m│   │   \u001b[0m\u001b[2m# Setup the streaming DAG topology and start the runner thread\u001b[0m \u001b[31m│\u001b[0m\n",
      "\u001b[31m│\u001b[0m \u001b[31m❱ \u001b[0m101 \u001b[2m│   │   \u001b[0m_validate_dag(dag, \u001b[96mself\u001b[0m._get_or_refresh_resource_limits())     \u001b[31m│\u001b[0m\n",
      "\u001b[31m│\u001b[0m   \u001b[2m102 \u001b[0m\u001b[2m│   │   \u001b[0m\u001b[96mself\u001b[0m._topology, _ = build_streaming_topology(dag, \u001b[96mself\u001b[0m._option \u001b[31m│\u001b[0m\n",
      "\u001b[31m│\u001b[0m   \u001b[2m103 \u001b[0m\u001b[2m│   │   \u001b[0m                                                               \u001b[31m│\u001b[0m\n",
      "\u001b[31m│\u001b[0m   \u001b[2m104 \u001b[0m\u001b[2m│   │   \u001b[0m\u001b[94mif\u001b[0m \u001b[95mnot\u001b[0m \u001b[96misinstance\u001b[0m(dag, InputDataBuffer):                       \u001b[31m│\u001b[0m\n",
      "\u001b[31m│\u001b[0m                                                                              \u001b[31m│\u001b[0m\n",
      "\u001b[31m│\u001b[0m \u001b[2;33m/opt/app-root/lib64/python3.9/site-packages/ray/data/_internal/execution/\u001b[0m\u001b[1;33mstr\u001b[0m \u001b[31m│\u001b[0m\n",
      "\u001b[31m│\u001b[0m \u001b[1;33meaming_executor.py\u001b[0m:\u001b[94m332\u001b[0m in \u001b[92m_validate_dag\u001b[0m                                      \u001b[31m│\u001b[0m\n",
      "\u001b[31m│\u001b[0m                                                                              \u001b[31m│\u001b[0m\n",
      "\u001b[31m│\u001b[0m   \u001b[2m329 \u001b[0m\u001b[2m│   │   \u001b[0mbase_usage = base_usage.add(op.base_resource_usage())          \u001b[31m│\u001b[0m\n",
      "\u001b[31m│\u001b[0m   \u001b[2m330 \u001b[0m\u001b[2m│   \u001b[0m                                                                   \u001b[31m│\u001b[0m\n",
      "\u001b[31m│\u001b[0m   \u001b[2m331 \u001b[0m\u001b[2m│   \u001b[0m\u001b[94mif\u001b[0m \u001b[95mnot\u001b[0m base_usage.satisfies_limit(limits):                         \u001b[31m│\u001b[0m\n",
      "\u001b[31m│\u001b[0m \u001b[31m❱ \u001b[0m332 \u001b[2m│   │   \u001b[0m\u001b[94mraise\u001b[0m \u001b[96mValueError\u001b[0m(                                              \u001b[31m│\u001b[0m\n",
      "\u001b[31m│\u001b[0m   \u001b[2m333 \u001b[0m\u001b[2m│   │   │   \u001b[0m\u001b[33mf\u001b[0m\u001b[33m\"\u001b[0m\u001b[33mThe base resource usage of this topology \u001b[0m\u001b[33m{\u001b[0mbase_usage\u001b[33m}\u001b[0m\u001b[33m \u001b[0m\u001b[33m\"\u001b[0m  \u001b[31m│\u001b[0m\n",
      "\u001b[31m│\u001b[0m   \u001b[2m334 \u001b[0m\u001b[2m│   │   │   \u001b[0m\u001b[33mf\u001b[0m\u001b[33m\"\u001b[0m\u001b[33mexceeds the execution limits \u001b[0m\u001b[33m{\u001b[0mlimits\u001b[33m}\u001b[0m\u001b[33m!\u001b[0m\u001b[33m\"\u001b[0m                  \u001b[31m│\u001b[0m\n",
      "\u001b[31m│\u001b[0m   \u001b[2m335 \u001b[0m\u001b[2m│   │   \u001b[0m)                                                              \u001b[31m│\u001b[0m\n",
      "\u001b[31m╰──────────────────────────────────────────────────────────────────────────────╯\u001b[0m\n",
      "\u001b[1;91mValueError: \u001b[0mThe base resource usage of this topology \u001b[1;35mExecutionResources\u001b[0m\u001b[1m(\u001b[0m\u001b[33mcpu\u001b[0m=\u001b[1;36m1\u001b[0m\u001b[1;36m.0\u001b[0m,\n",
      "\u001b[33mgpu\u001b[0m=\u001b[1;36m4\u001b[0m\u001b[1;36m.0\u001b[0m, \u001b[33mobject_store_memory\u001b[0m=\u001b[3;35mNone\u001b[0m\u001b[1m)\u001b[0m exceeds the execution limits \n",
      "\u001b[1;35mExecutionResources\u001b[0m\u001b[1m(\u001b[0m\u001b[33mcpu\u001b[0m=\u001b[1;36m6\u001b[0m\u001b[1;36m.0\u001b[0m, \u001b[33mgpu\u001b[0m=\u001b[1;36m0\u001b[0m\u001b[1;36m.0\u001b[0m, \u001b[33mobject_store_memory\u001b[0m=\u001b[1;36m1766031053\u001b[0m\u001b[1m)\u001b[0m!\n"
     ]
    }
   ],
   "source": [
    "!python generate.py \\\n",
    "    --model_dir=$ORIG_MODEL_PATH \\\n",
    "    --output_dir=$IMAGES_REG_DIR \\\n",
    "    --prompts=\"photo of a $CLASS_NAME\" \\\n",
    "    --num_samples_per_prompt=200 \\\n",
    "    --use_ray_data"
   ]
  },
  {
   "cell_type": "code",
   "execution_count": null,
   "id": "107c8277-3b3b-4238-a786-a391a662fd7c",
   "metadata": {},
   "outputs": [],
   "source": [
    "cluster.up()"
   ]
  },
  {
   "cell_type": "code",
   "execution_count": null,
   "id": "730f66ce-adaa-4709-b9cf-22417847e059",
   "metadata": {},
   "outputs": [],
   "source": [
    "cluster.wait_ready()"
   ]
  },
  {
   "cell_type": "code",
   "execution_count": null,
   "id": "48fac218-2f22-428b-9228-137a4bb0e666",
   "metadata": {},
   "outputs": [],
   "source": [
    "cluster.details()"
   ]
  },
  {
   "cell_type": "code",
   "execution_count": null,
   "id": "9ed5bd75-4230-4c7c-a9e2-0f247890e62a",
   "metadata": {},
   "outputs": [],
   "source": [
    "from codeflare_sdk.job.jobs import DDPJobDefinition"
   ]
  },
  {
   "cell_type": "code",
   "execution_count": null,
   "id": "611d203a-35aa-4357-a748-1d01b022fcdb",
   "metadata": {},
   "outputs": [],
   "source": [
    "arg_list = [\n",
    "    \"--model_name_or_path\", \"gpt2\",\n",
    "    \"--dataset_name\", \"wikitext\",\n",
    "    \"--dataset_config_name\", \"wikitext-2-raw-v1\",\n",
    "    \"--per_device_train_batch_size\", \"2\",\n",
    "    \"--per_device_eval_batch_size\", \"2\",\n",
    "    \"--do_train\",\n",
    "    \"--do_eval\",\n",
    "    \"--output_dir\", \"/tmp/test-clm\",\n",
    "    \"--overwrite_output_dir\"\n",
    "]"
   ]
  },
  {
   "cell_type": "code",
   "execution_count": null,
   "id": "8ac7c34f-e227-44c2-a4b1-a57c853ac3a7",
   "metadata": {},
   "outputs": [],
   "source": [
    "jobdef = DDPJobDefinition(\n",
    "    name=\"gpttest\",\n",
    "    script=\"gpt_og.py\",\n",
    "    script_args=arg_list,\n",
    "    scheduler_args={\"requirements\": \"requirements_gpt.txt\"}\n",
    ")\n",
    "job = jobdef.submit(cluster)"
   ]
  },
  {
   "cell_type": "code",
   "execution_count": null,
   "id": "1680d287-de46-45f8-b95a-02ba3c83912c",
   "metadata": {},
   "outputs": [],
   "source": [
    "job.status()"
   ]
  },
  {
   "cell_type": "markdown",
   "id": "80bc1961",
   "metadata": {},
   "source": [
    "Retrieve raw log output at anytime with:"
   ]
  },
  {
   "cell_type": "code",
   "execution_count": null,
   "id": "d25d6198-9941-47e8-857f-9811830cc854",
   "metadata": {},
   "outputs": [],
   "source": [
    "job.logs()"
   ]
  },
  {
   "cell_type": "markdown",
   "id": "876b96b5",
   "metadata": {},
   "source": [
    "View live updates for status, logs, and other information with:"
   ]
  },
  {
   "cell_type": "code",
   "execution_count": null,
   "id": "58f8a2e8",
   "metadata": {},
   "outputs": [],
   "source": [
    "cluster.cluster_dashboard_uri()"
   ]
  },
  {
   "cell_type": "code",
   "execution_count": null,
   "id": "d7c13eab",
   "metadata": {},
   "outputs": [],
   "source": [
    "job.status()"
   ]
  },
  {
   "cell_type": "code",
   "execution_count": null,
   "id": "beb1a6b9-d9b3-49b7-b036-09f1d3569b59",
   "metadata": {},
   "outputs": [],
   "source": [
    "cluster.down()"
   ]
  },
  {
   "cell_type": "code",
   "execution_count": null,
   "id": "8398d977-db24-46d0-a7d2-b4e9197808d7",
   "metadata": {},
   "outputs": [],
   "source": [
    "auth.logout()"
   ]
  }
 ],
 "metadata": {
  "kernelspec": {
   "display_name": "Python 3.9",
   "language": "python",
   "name": "python3"
  },
  "language_info": {
   "codemirror_mode": {
    "name": "ipython",
    "version": 3
   },
   "file_extension": ".py",
   "mimetype": "text/x-python",
   "name": "python",
   "nbconvert_exporter": "python",
   "pygments_lexer": "ipython3",
   "version": "3.9.16"
  }
 },
 "nbformat": 4,
 "nbformat_minor": 5
}
