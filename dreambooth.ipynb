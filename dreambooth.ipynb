{
 "cells": [
  {
   "cell_type": "markdown",
   "id": "fcafa873-3ba1-440f-8659-1ae5ffcb467b",
   "metadata": {},
   "source": [
    "# Train Stable Diffusion with CodeFlare"
   ]
  },
  {
   "cell_type": "code",
   "execution_count": 10,
   "id": "2cb4fbe1-5374-48f0-9d66-1b2634246410",
   "metadata": {},
   "outputs": [
    {
     "name": "stdout",
     "output_type": "stream",
     "text": [
      "/opt/app-root/src/text-to-image-demo\n"
     ]
    }
   ],
   "source": [
    "!pwd"
   ]
  },
  {
   "cell_type": "code",
   "execution_count": 58,
   "id": "152eacad-62f0-41f1-ad99-1e5e5cdaa6bd",
   "metadata": {},
   "outputs": [],
   "source": [
    "# !pip install -Ur dim-dreambooth/dreambooth/requirements.txt"
   ]
  },
  {
   "cell_type": "markdown",
   "id": "3d662b48-f4bb-47d4-bf23-da97a38bd5c0",
   "metadata": {},
   "source": [
    "## Prep Infra"
   ]
  },
  {
   "cell_type": "code",
   "execution_count": 63,
   "id": "1d39ba0c-5500-452c-9166-372081db74d3",
   "metadata": {},
   "outputs": [],
   "source": [
    "# Import pieces from codeflare-sdk\n",
    "from codeflare_sdk.cluster.cluster import Cluster, ClusterConfiguration\n",
    "from codeflare_sdk.cluster.auth import TokenAuthentication"
   ]
  },
  {
   "cell_type": "code",
   "execution_count": 64,
   "id": "d8603376-e101-4112-9998-dca160caa43a",
   "metadata": {},
   "outputs": [
    {
     "data": {
      "text/plain": [
       "'Logged into https://api.aisrhods-dim.u1hh.p1.openshiftapps.com:6443'"
      ]
     },
     "execution_count": 64,
     "metadata": {},
     "output_type": "execute_result"
    }
   ],
   "source": [
    "# Create authentication object for user permissions\n",
    "# IF unused, SDK will automatically check for default kubeconfig, then in-cluster config\n",
    "# KubeConfigFileAuthentication can also be used to specify kubeconfig path manually\n",
    "auth = TokenAuthentication(\n",
    "    token = \"sha256~4ExAoqZIHMRd89RZjrnNF8yUODITzIzNh3mn65MBAWE\",\n",
    "    server = \"https://api.aisrhods-dim.u1hh.p1.openshiftapps.com:6443\",\n",
    "    skip_tls=False\n",
    ")\n",
    "auth.login()"
   ]
  },
  {
   "cell_type": "code",
   "execution_count": null,
   "id": "b6c05b69-4ce8-45ef-82d3-bacb2491bee8",
   "metadata": {},
   "outputs": [],
   "source": []
  },
  {
   "cell_type": "code",
   "execution_count": null,
   "id": "3f32119a-c4ee-4163-b103-d9ca3bddbdb5",
   "metadata": {},
   "outputs": [],
   "source": [
    "cluster = Cluster(ClusterConfiguration(\n",
    "    name='stab-diff',\n",
    "    namespace='default',\n",
    "    num_workers=2,\n",
    "    min_cpus=2,\n",
    "    max_cpus=2,\n",
    "    min_memory=10,\n",
    "    max_memory=20,\n",
    "    num_gpus=2,\n",
    "    instascale=True, #<---instascale enabled\n",
    "    machine_types=[\"g4dn.xlarge\", \"g4dn.xlarge\"],\n",
    "))"
   ]
  },
  {
   "cell_type": "code",
   "execution_count": null,
   "id": "34fb9b32-ae47-406f-83d5-87181a5b057a",
   "metadata": {},
   "outputs": [],
   "source": [
    "cluster.details()"
   ]
  },
  {
   "cell_type": "code",
   "execution_count": null,
   "id": "ffc5b3cc-594b-4144-9933-7d8f81f672fd",
   "metadata": {},
   "outputs": [],
   "source": [
    "cluster.status()"
   ]
  },
  {
   "cell_type": "code",
   "execution_count": null,
   "id": "0c30cd22-f9a7-4877-8561-8b958eccdf13",
   "metadata": {},
   "outputs": [],
   "source": [
    "# cluster.up()"
   ]
  },
  {
   "cell_type": "markdown",
   "id": "a3e007d9-70e1-4296-a627-ee09b189a894",
   "metadata": {},
   "source": [
    "## Step 0: Prep"
   ]
  },
  {
   "cell_type": "code",
   "execution_count": 26,
   "id": "c5c2936c-7228-42fd-af3e-673ded59387c",
   "metadata": {},
   "outputs": [
    {
     "name": "stdout",
     "output_type": "stream",
     "text": [
      "/opt/app-root/src/text-to-image-demo\n"
     ]
    }
   ],
   "source": [
    "!pwd"
   ]
  },
  {
   "cell_type": "code",
   "execution_count": 67,
   "id": "47d998bb-dbe4-416a-8b33-7c820219f663",
   "metadata": {},
   "outputs": [
    {
     "name": "stdout",
     "output_type": "stream",
     "text": [
      "/model-orig\n",
      "mkdir: cannot create directory ‘/model-orig’: Permission denied\n",
      "mkdir: cannot create directory ‘/model-tuned’: Permission denied\n",
      "mkdir: cannot create directory ‘/images-reg’: Permission denied\n",
      "mkdir: cannot create directory ‘/images-own’: Permission denied\n",
      "mkdir: cannot create directory ‘/images-new’: Permission denied\n"
     ]
    }
   ],
   "source": [
    "# THIS IS ORIGINAL\n",
    "\n",
    "# TODO: If running on multiple nodes, change this path to a shared directory (ex: NFS)\n",
    "!export DATA_PREFIX=\"/opt/app-root/src/text-to-image-demo/dim-dreambooth\"\n",
    "!export ORIG_MODEL_NAME=\"CompVis/stable-diffusion-v1-4\"\n",
    "!export ORIG_MODEL_HASH=\"b95be7d6f134c3a9e62ee616f310733567f069ce\"\n",
    "!export ORIG_MODEL_DIR=\"$DATA_PREFIX/model-orig\"\n",
    "!export ORIG_MODEL_PATH=\"$ORIG_MODEL_DIR/models--${ORIG_MODEL_NAME/\\//--}/snapshots/$ORIG_MODEL_HASH\"\n",
    "!export TUNED_MODEL_DIR=\"$DATA_PREFIX/model-tuned\"\n",
    "!export IMAGES_REG_DIR=\"$DATA_PREFIX/images-reg\"\n",
    "!export IMAGES_OWN_DIR=\"$DATA_PREFIX/images-own\"\n",
    "!export IMAGES_NEW_DIR=\"$DATA_PREFIX/images-new\"\n",
    "# TODO: Add more worker nodes and increase NUM_WORKERS for more data-parallelism\n",
    "!export NUM_WORKERS=2\n",
    "\n",
    "# !mkdir -p \n",
    "!echo $ORIG_MODEL_DIR \n",
    "# $TUNED_MODEL_DIR $IMAGES_REG_DIR $IMAGES_OWN_DIR $IMAGES_NEW_DIR\n",
    "!mkdir -p $ORIG_MODEL_DIR $TUNED_MODEL_DIR $IMAGES_REG_DIR $IMAGES_OWN_DIR $IMAGES_NEW_DIR"
   ]
  },
  {
   "cell_type": "code",
   "execution_count": 46,
   "id": "a252748d-02b6-4c64-bee1-ea23197b819a",
   "metadata": {},
   "outputs": [],
   "source": [
    "# fix this\n",
    "import os\n",
    "# TODO: If running on multiple nodes, change this path to a shared directory (ex: NFS)\n",
    "os.environ[\"DATA_PREFIX\"]=\"/opt/app-root/src/text-to-image-demo/dim-dreambooth\"\n",
    "os.environ[\"ORIG_MODEL_NAME\"]=\"CompVis/stable-diffusion-v1-4\"\n",
    "os.environ[\"ORIG_MODEL_HASH\"]=\"b95be7d6f134c3a9e62ee616f310733567f069ce\"\n",
    "os.environ[\"ORIG_MODEL_DIR\"]=\"$DATA_PREFIX/model-orig\"\n",
    "os.environ[\"ORIG_MODEL_PATH\"]=\"$ORIG_MODEL_DIR/models--${ORIG_MODEL_NAME/\\//--}/snapshots/$ORIG_MODEL_HASH\"\n",
    "TUNED_MODEL_DIR=\"$DATA_PREFIX/model-tuned\"\n",
    "IMAGES_REG_DIR=\"$DATA_PREFIX/images-reg\"\n",
    "IMAGES_OWN_DIR=\"$DATA_PREFIX/images-own\"\n",
    "IMAGES_NEW_DIR=\"$DATA_PREFIX/images-new\"\n",
    "# TODO: Add more worker nodes and increase NUM_WORKERS for more data-parallelism\n",
    "NUM_WORKERS=2\n",
    "\n",
    "# !mkdir -p \n",
    "# !echo $ORIG_MODEL_DIR \n",
    "# $TUNED_MODEL_DIR $IMAGES_REG_DIR $IMAGES_OWN_DIR $IMAGES_NEW_DIR\n",
    "os.makedirs(ORIG_MODEL_DIR, exist_ok=True)\n",
    "os.makedirs(TUNED_MODEL_DIR, exist_ok=True)\n",
    "os.makedirs(IMAGES_REG_DIR, exist_ok=True)\n",
    "os.makedirs(IMAGES_OWN_DIR, exist_ok=True)\n",
    "os.makedirs(IMAGES_NEW_DIR, exist_ok=True)\n"
   ]
  },
  {
   "cell_type": "code",
   "execution_count": 53,
   "id": "9c7452d4-95b8-415c-bbc7-e81d54326b04",
   "metadata": {},
   "outputs": [
    {
     "name": "stdout",
     "output_type": "stream",
     "text": [
      "/opt/app-root/src/text-to-image-demo/dim-dreambooth\n",
      "CompVis/stable-diffusion-v1-4\n",
      "b95be7d6f134c3a9e62ee616f310733567f069ce\n"
     ]
    }
   ],
   "source": [
    "!echo $DATA_PREFIX\n",
    "!echo $ORIG_MODEL_NAME\n",
    "!echo $ORIG_MODEL_HASH"
   ]
  },
  {
   "cell_type": "markdown",
   "id": "48ccc9d0-0ccd-42bb-b232-f260b25998ed",
   "metadata": {},
   "source": [
    "## Step 1: Download the pre-trained model"
   ]
  },
  {
   "cell_type": "code",
   "execution_count": 55,
   "id": "425524b7-e87e-4ff6-9348-266ba79d5742",
   "metadata": {},
   "outputs": [
    {
     "name": "stdout",
     "output_type": "stream",
     "text": [
      "/opt/app-root/src/text-to-image-demo\n"
     ]
    }
   ],
   "source": [
    "!pwd"
   ]
  },
  {
   "cell_type": "code",
   "execution_count": 57,
   "id": "ef10c2f8-ec6f-40d0-9179-3606785573ba",
   "metadata": {},
   "outputs": [
    {
     "name": "stdout",
     "output_type": "stream",
     "text": [
      "Traceback (most recent call last):\n",
      "  File \"/opt/app-root/src/text-to-image-demo/dim-dreambooth/dreambooth/cache_model.py\", line 20, in <module>\n",
      "    cache(args)\n",
      "  File \"/opt/app-root/src/text-to-image-demo/dim-dreambooth/dreambooth/cache_model.py\", line 11, in cache\n",
      "    os.makedirs(args.model_dir, exist_ok=True)\n",
      "  File \"/usr/lib64/python3.9/os.py\", line 225, in makedirs\n",
      "    mkdir(name, mode)\n",
      "PermissionError: [Errno 13] Permission denied: '/model-orig'\n"
     ]
    }
   ],
   "source": [
    "!python dim-dreambooth/dreambooth/cache_model.py --model_dir=$ORIG_MODEL_DIR --model_name=$ORIG_MODEL_NAME --revision=$ORIG_MODEL_HASH"
   ]
  },
  {
   "cell_type": "markdown",
   "id": "54ae8097-4d94-425c-aa3a-590ec6ba2c9f",
   "metadata": {},
   "source": [
    "## Step 2: Supply images of your subject"
   ]
  },
  {
   "cell_type": "code",
   "execution_count": null,
   "id": "a3f7d528-a692-4f35-a33e-b19851c0a689",
   "metadata": {},
   "outputs": [],
   "source": [
    "  # Only uncomment one of the following:\n",
    "\n",
    "  # Option 1: Use the dog dataset ---------\n",
    "  export CLASS_NAME=\"dog\"\n",
    "  python download_example_dataset.py ./images/dog\n",
    "  export INSTANCE_DIR=./images/dog\n",
    "  # ---------------------------------------\n",
    "\n",
    "  # Option 2: Use the lego car dataset ----\n",
    "  # export CLASS_NAME=\"car\"\n",
    "  # export INSTANCE_DIR=./images/lego-car\n",
    "  # ---------------------------------------\n",
    "\n",
    "  # Option 3: Use your own images ---------\n",
    "  # export CLASS_NAME=\"<class-of-your-subject>\"\n",
    "  # export INSTANCE_DIR=\"/path/to/images/of/subject\"\n",
    "  # ---------------------------------------\n",
    "\n",
    "  # Copy own images into IMAGES_OWN_DIR\n",
    "  cp -rf $INSTANCE_DIR/* \"$IMAGES_OWN_DIR/\""
   ]
  },
  {
   "cell_type": "markdown",
   "id": "5c7154fa-9afe-498d-b714-b710742ea2b3",
   "metadata": {},
   "source": [
    "## Step 3: Create the regularization images"
   ]
  },
  {
   "cell_type": "code",
   "execution_count": null,
   "id": "740f7c89-a630-4371-88f2-fd56b0250cd4",
   "metadata": {},
   "outputs": [],
   "source": [
    "  python generate.py \\\n",
    "    --model_dir=$ORIG_MODEL_PATH \\\n",
    "    --output_dir=$IMAGES_REG_DIR \\\n",
    "    --prompts=\"photo of a $CLASS_NAME\" \\\n",
    "    --num_samples_per_prompt=200 \\\n",
    "    --use_ray_data"
   ]
  },
  {
   "cell_type": "code",
   "execution_count": null,
   "id": "107c8277-3b3b-4238-a786-a391a662fd7c",
   "metadata": {},
   "outputs": [],
   "source": [
    "cluster.up()"
   ]
  },
  {
   "cell_type": "code",
   "execution_count": null,
   "id": "730f66ce-adaa-4709-b9cf-22417847e059",
   "metadata": {},
   "outputs": [],
   "source": [
    "cluster.wait_ready()"
   ]
  },
  {
   "cell_type": "code",
   "execution_count": null,
   "id": "48fac218-2f22-428b-9228-137a4bb0e666",
   "metadata": {},
   "outputs": [],
   "source": [
    "cluster.details()"
   ]
  },
  {
   "cell_type": "code",
   "execution_count": null,
   "id": "9ed5bd75-4230-4c7c-a9e2-0f247890e62a",
   "metadata": {},
   "outputs": [],
   "source": [
    "from codeflare_sdk.job.jobs import DDPJobDefinition"
   ]
  },
  {
   "cell_type": "code",
   "execution_count": null,
   "id": "611d203a-35aa-4357-a748-1d01b022fcdb",
   "metadata": {},
   "outputs": [],
   "source": [
    "arg_list = [\n",
    "    \"--model_name_or_path\", \"gpt2\",\n",
    "    \"--dataset_name\", \"wikitext\",\n",
    "    \"--dataset_config_name\", \"wikitext-2-raw-v1\",\n",
    "    \"--per_device_train_batch_size\", \"2\",\n",
    "    \"--per_device_eval_batch_size\", \"2\",\n",
    "    \"--do_train\",\n",
    "    \"--do_eval\",\n",
    "    \"--output_dir\", \"/tmp/test-clm\",\n",
    "    \"--overwrite_output_dir\"\n",
    "]"
   ]
  },
  {
   "cell_type": "code",
   "execution_count": null,
   "id": "8ac7c34f-e227-44c2-a4b1-a57c853ac3a7",
   "metadata": {},
   "outputs": [],
   "source": [
    "jobdef = DDPJobDefinition(\n",
    "    name=\"gpttest\",\n",
    "    script=\"gpt_og.py\",\n",
    "    script_args=arg_list,\n",
    "    scheduler_args={\"requirements\": \"requirements_gpt.txt\"}\n",
    ")\n",
    "job = jobdef.submit(cluster)"
   ]
  },
  {
   "cell_type": "code",
   "execution_count": null,
   "id": "1680d287-de46-45f8-b95a-02ba3c83912c",
   "metadata": {},
   "outputs": [],
   "source": [
    "job.status()"
   ]
  },
  {
   "cell_type": "markdown",
   "id": "80bc1961",
   "metadata": {},
   "source": [
    "Retrieve raw log output at anytime with:"
   ]
  },
  {
   "cell_type": "code",
   "execution_count": null,
   "id": "d25d6198-9941-47e8-857f-9811830cc854",
   "metadata": {},
   "outputs": [],
   "source": [
    "job.logs()"
   ]
  },
  {
   "cell_type": "markdown",
   "id": "876b96b5",
   "metadata": {},
   "source": [
    "View live updates for status, logs, and other information with:"
   ]
  },
  {
   "cell_type": "code",
   "execution_count": null,
   "id": "58f8a2e8",
   "metadata": {},
   "outputs": [],
   "source": [
    "cluster.cluster_dashboard_uri()"
   ]
  },
  {
   "cell_type": "code",
   "execution_count": null,
   "id": "d7c13eab",
   "metadata": {},
   "outputs": [],
   "source": [
    "job.status()"
   ]
  },
  {
   "cell_type": "code",
   "execution_count": null,
   "id": "beb1a6b9-d9b3-49b7-b036-09f1d3569b59",
   "metadata": {},
   "outputs": [],
   "source": [
    "cluster.down()"
   ]
  },
  {
   "cell_type": "code",
   "execution_count": null,
   "id": "8398d977-db24-46d0-a7d2-b4e9197808d7",
   "metadata": {},
   "outputs": [],
   "source": [
    "auth.logout()"
   ]
  }
 ],
 "metadata": {
  "kernelspec": {
   "display_name": "Python 3.9",
   "language": "python",
   "name": "python3"
  },
  "language_info": {
   "codemirror_mode": {
    "name": "ipython",
    "version": 3
   },
   "file_extension": ".py",
   "mimetype": "text/x-python",
   "name": "python",
   "nbconvert_exporter": "python",
   "pygments_lexer": "ipython3",
   "version": "3.9.16"
  }
 },
 "nbformat": 4,
 "nbformat_minor": 5
}
