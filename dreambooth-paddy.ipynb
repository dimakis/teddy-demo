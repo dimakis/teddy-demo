{
 "cells": [
  {
   "cell_type": "markdown",
   "id": "fcafa873-3ba1-440f-8659-1ae5ffcb467b",
   "metadata": {},
   "source": [
    "# Train Stable Diffusion with CodeFlare"
   ]
  },
  {
   "cell_type": "code",
   "execution_count": 1,
   "id": "2cb4fbe1-5374-48f0-9d66-1b2634246410",
   "metadata": {},
   "outputs": [
    {
     "name": "stdout",
     "output_type": "stream",
     "text": [
      "/opt/app-root/src/teddy-demo\n"
     ]
    }
   ],
   "source": [
    "!pwd"
   ]
  },
  {
   "cell_type": "code",
   "execution_count": 47,
   "id": "152eacad-62f0-41f1-ad99-1e5e5cdaa6bd",
   "metadata": {},
   "outputs": [
    {
     "name": "stdout",
     "output_type": "stream",
     "text": [
      "Requirement already satisfied: codeflare-sdk in /opt/app-root/lib/python3.8/site-packages (0.8.0)\n",
      "Requirement already satisfied: pydantic<2 in /opt/app-root/lib/python3.8/site-packages (from codeflare-sdk) (1.10.2)\n",
      "Requirement already satisfied: ray[default]==2.5.0 in /opt/app-root/lib/python3.8/site-packages (from codeflare-sdk) (2.5.0)\n",
      "Requirement already satisfied: cryptography==40.0.2 in /opt/app-root/lib/python3.8/site-packages (from codeflare-sdk) (40.0.2)\n",
      "Requirement already satisfied: executing==1.2.0 in /opt/app-root/lib/python3.8/site-packages (from codeflare-sdk) (1.2.0)\n",
      "Requirement already satisfied: kubernetes<27,>=25.3.0 in /opt/app-root/lib/python3.8/site-packages (from codeflare-sdk) (26.1.0)\n",
      "Requirement already satisfied: pytorch-lightning<3.0.0,>=2.0.8 in /opt/app-root/lib/python3.8/site-packages (from codeflare-sdk) (2.0.9)\n",
      "Requirement already satisfied: rich<13.0,>=12.5 in /opt/app-root/lib/python3.8/site-packages (from codeflare-sdk) (12.6.0)\n",
      "Requirement already satisfied: openshift-client==1.0.18 in /opt/app-root/lib/python3.8/site-packages (from codeflare-sdk) (1.0.18)\n",
      "Requirement already satisfied: codeflare-torchx==0.6.0.dev1 in /opt/app-root/lib/python3.8/site-packages (from codeflare-sdk) (0.6.0.dev1)\n",
      "Requirement already satisfied: pyyaml in /opt/app-root/lib/python3.8/site-packages (from codeflare-torchx==0.6.0.dev1->codeflare-sdk) (6.0.1)\n",
      "Requirement already satisfied: pyre-extensions in /opt/app-root/lib/python3.8/site-packages (from codeflare-torchx==0.6.0.dev1->codeflare-sdk) (0.0.30)\n",
      "Requirement already satisfied: fsspec in /opt/app-root/lib/python3.8/site-packages (from codeflare-torchx==0.6.0.dev1->codeflare-sdk) (2023.9.2)\n",
      "Collecting urllib3<1.27,>=1.21.1\n",
      "  Downloading urllib3-1.26.17-py2.py3-none-any.whl (143 kB)\n",
      "\u001b[2K     \u001b[90m━━━━━━━━━━━━━━━━━━━━━━━━━━━━━━━━━━━━━━\u001b[0m \u001b[32m143.4/143.4 kB\u001b[0m \u001b[31m39.5 MB/s\u001b[0m eta \u001b[36m0:00:00\u001b[0m\n",
      "\u001b[?25hRequirement already satisfied: importlib-metadata in /opt/app-root/lib/python3.8/site-packages (from codeflare-torchx==0.6.0.dev1->codeflare-sdk) (4.12.0)\n",
      "Requirement already satisfied: docstring-parser==0.8.1 in /opt/app-root/lib/python3.8/site-packages (from codeflare-torchx==0.6.0.dev1->codeflare-sdk) (0.8.1)\n",
      "Requirement already satisfied: tabulate in /opt/app-root/lib/python3.8/site-packages (from codeflare-torchx==0.6.0.dev1->codeflare-sdk) (0.8.10)\n",
      "Requirement already satisfied: docker in /opt/app-root/lib/python3.8/site-packages (from codeflare-torchx==0.6.0.dev1->codeflare-sdk) (6.1.3)\n",
      "Requirement already satisfied: filelock in /opt/app-root/lib/python3.8/site-packages (from codeflare-torchx==0.6.0.dev1->codeflare-sdk) (3.12.4)\n",
      "Requirement already satisfied: cffi>=1.12 in /opt/app-root/lib/python3.8/site-packages (from cryptography==40.0.2->codeflare-sdk) (1.15.1)\n",
      "Requirement already satisfied: six in /opt/app-root/lib/python3.8/site-packages (from openshift-client==1.0.18->codeflare-sdk) (1.16.0)\n",
      "Requirement already satisfied: paramiko in /opt/app-root/lib/python3.8/site-packages (from openshift-client==1.0.18->codeflare-sdk) (2.11.0)\n",
      "Requirement already satisfied: aiosignal in /opt/app-root/lib/python3.8/site-packages (from ray[default]==2.5.0->codeflare-sdk) (1.3.1)\n",
      "Requirement already satisfied: attrs in /opt/app-root/lib/python3.8/site-packages (from ray[default]==2.5.0->codeflare-sdk) (23.1.0)\n",
      "Requirement already satisfied: jsonschema in /opt/app-root/lib/python3.8/site-packages (from ray[default]==2.5.0->codeflare-sdk) (4.19.1)\n",
      "Requirement already satisfied: msgpack<2.0.0,>=1.0.0 in /opt/app-root/lib/python3.8/site-packages (from ray[default]==2.5.0->codeflare-sdk) (1.0.7)\n",
      "Requirement already satisfied: click>=7.0 in /opt/app-root/lib/python3.8/site-packages (from ray[default]==2.5.0->codeflare-sdk) (8.1.7)\n",
      "Requirement already satisfied: numpy>=1.16 in /opt/app-root/lib/python3.8/site-packages (from ray[default]==2.5.0->codeflare-sdk) (1.24.4)\n",
      "Requirement already satisfied: packaging in /opt/app-root/lib/python3.8/site-packages (from ray[default]==2.5.0->codeflare-sdk) (23.2)\n",
      "Requirement already satisfied: grpcio<=1.51.3,>=1.32.0 in /opt/app-root/lib/python3.8/site-packages (from ray[default]==2.5.0->codeflare-sdk) (1.43.0)\n",
      "Requirement already satisfied: protobuf!=3.19.5,>=3.15.3 in /opt/app-root/lib/python3.8/site-packages (from ray[default]==2.5.0->codeflare-sdk) (4.24.4)\n",
      "Requirement already satisfied: requests in /opt/app-root/lib/python3.8/site-packages (from ray[default]==2.5.0->codeflare-sdk) (2.31.0)\n",
      "Requirement already satisfied: frozenlist in /opt/app-root/lib/python3.8/site-packages (from ray[default]==2.5.0->codeflare-sdk) (1.4.0)\n",
      "Requirement already satisfied: opencensus in /opt/app-root/lib/python3.8/site-packages (from ray[default]==2.5.0->codeflare-sdk) (0.11.0)\n",
      "Requirement already satisfied: aiohttp>=3.7 in /opt/app-root/lib/python3.8/site-packages (from ray[default]==2.5.0->codeflare-sdk) (3.8.3)\n",
      "Requirement already satisfied: py-spy>=0.2.0 in /opt/app-root/lib/python3.8/site-packages (from ray[default]==2.5.0->codeflare-sdk) (0.3.14)\n",
      "Requirement already satisfied: aiohttp-cors in /opt/app-root/lib/python3.8/site-packages (from ray[default]==2.5.0->codeflare-sdk) (0.7.0)\n",
      "Requirement already satisfied: prometheus-client>=0.7.1 in /opt/app-root/lib/python3.8/site-packages (from ray[default]==2.5.0->codeflare-sdk) (0.13.1)\n",
      "Requirement already satisfied: gpustat>=1.0.0 in /opt/app-root/lib/python3.8/site-packages (from ray[default]==2.5.0->codeflare-sdk) (1.0.0)\n",
      "Requirement already satisfied: colorful in /opt/app-root/lib/python3.8/site-packages (from ray[default]==2.5.0->codeflare-sdk) (0.5.4)\n",
      "Requirement already satisfied: virtualenv<20.21.1,>=20.0.24 in /opt/app-root/lib/python3.8/site-packages (from ray[default]==2.5.0->codeflare-sdk) (20.16.5)\n",
      "Requirement already satisfied: smart-open in /opt/app-root/lib/python3.8/site-packages (from ray[default]==2.5.0->codeflare-sdk) (6.2.0)\n",
      "Requirement already satisfied: certifi>=14.05.14 in /opt/app-root/lib/python3.8/site-packages (from kubernetes<27,>=25.3.0->codeflare-sdk) (2023.7.22)\n",
      "Requirement already satisfied: websocket-client!=0.40.0,!=0.41.*,!=0.42.*,>=0.32.0 in /opt/app-root/lib/python3.8/site-packages (from kubernetes<27,>=25.3.0->codeflare-sdk) (1.4.1)\n",
      "Requirement already satisfied: google-auth>=1.0.1 in /opt/app-root/lib/python3.8/site-packages (from kubernetes<27,>=25.3.0->codeflare-sdk) (2.12.0)\n",
      "Requirement already satisfied: setuptools>=21.0.0 in /opt/app-root/lib/python3.8/site-packages (from kubernetes<27,>=25.3.0->codeflare-sdk) (65.5.0)\n",
      "Requirement already satisfied: python-dateutil>=2.5.3 in /opt/app-root/lib/python3.8/site-packages (from kubernetes<27,>=25.3.0->codeflare-sdk) (2.8.2)\n",
      "Requirement already satisfied: requests-oauthlib in /opt/app-root/lib/python3.8/site-packages (from kubernetes<27,>=25.3.0->codeflare-sdk) (1.3.1)\n",
      "Requirement already satisfied: typing-extensions>=4.1.0 in /opt/app-root/lib/python3.8/site-packages (from pydantic<2->codeflare-sdk) (4.3.0)\n",
      "Requirement already satisfied: tqdm>=4.57.0 in /opt/app-root/lib/python3.8/site-packages (from pytorch-lightning<3.0.0,>=2.0.8->codeflare-sdk) (4.64.1)\n",
      "Requirement already satisfied: torch>=1.11.0 in /opt/app-root/lib/python3.8/site-packages (from pytorch-lightning<3.0.0,>=2.0.8->codeflare-sdk) (2.0.1)\n",
      "Requirement already satisfied: torchmetrics>=0.7.0 in /opt/app-root/lib/python3.8/site-packages (from pytorch-lightning<3.0.0,>=2.0.8->codeflare-sdk) (1.1.2)\n",
      "Requirement already satisfied: lightning-utilities>=0.7.0 in /opt/app-root/lib/python3.8/site-packages (from pytorch-lightning<3.0.0,>=2.0.8->codeflare-sdk) (0.9.0)\n",
      "Requirement already satisfied: commonmark<0.10.0,>=0.9.0 in /opt/app-root/lib/python3.8/site-packages (from rich<13.0,>=12.5->codeflare-sdk) (0.9.1)\n",
      "Requirement already satisfied: pygments<3.0.0,>=2.6.0 in /opt/app-root/lib/python3.8/site-packages (from rich<13.0,>=12.5->codeflare-sdk) (2.13.0)\n",
      "Collecting charset-normalizer<3.0,>=2.0\n",
      "  Downloading charset_normalizer-2.1.1-py3-none-any.whl (39 kB)\n",
      "Requirement already satisfied: async-timeout<5.0,>=4.0.0a3 in /opt/app-root/lib/python3.8/site-packages (from aiohttp>=3.7->ray[default]==2.5.0->codeflare-sdk) (4.0.2)\n",
      "Requirement already satisfied: yarl<2.0,>=1.0 in /opt/app-root/lib/python3.8/site-packages (from aiohttp>=3.7->ray[default]==2.5.0->codeflare-sdk) (1.8.1)\n",
      "Requirement already satisfied: multidict<7.0,>=4.5 in /opt/app-root/lib/python3.8/site-packages (from aiohttp>=3.7->ray[default]==2.5.0->codeflare-sdk) (6.0.2)\n",
      "Requirement already satisfied: pycparser in /opt/app-root/lib/python3.8/site-packages (from cffi>=1.12->cryptography==40.0.2->codeflare-sdk) (2.21)\n",
      "Requirement already satisfied: cachetools<6.0,>=2.0.0 in /opt/app-root/lib/python3.8/site-packages (from google-auth>=1.0.1->kubernetes<27,>=25.3.0->codeflare-sdk) (5.2.0)\n",
      "Requirement already satisfied: pyasn1-modules>=0.2.1 in /opt/app-root/lib/python3.8/site-packages (from google-auth>=1.0.1->kubernetes<27,>=25.3.0->codeflare-sdk) (0.2.8)\n",
      "Requirement already satisfied: rsa<5,>=3.1.4 in /opt/app-root/lib/python3.8/site-packages (from google-auth>=1.0.1->kubernetes<27,>=25.3.0->codeflare-sdk) (4.9)\n",
      "Requirement already satisfied: blessed>=1.17.1 in /opt/app-root/lib/python3.8/site-packages (from gpustat>=1.0.0->ray[default]==2.5.0->codeflare-sdk) (1.19.1)\n",
      "Requirement already satisfied: psutil>=5.6.0 in /opt/app-root/lib/python3.8/site-packages (from gpustat>=1.0.0->ray[default]==2.5.0->codeflare-sdk) (5.9.2)\n",
      "Requirement already satisfied: nvidia-ml-py<=11.495.46,>=11.450.129 in /opt/app-root/lib/python3.8/site-packages (from gpustat>=1.0.0->ray[default]==2.5.0->codeflare-sdk) (11.495.46)\n",
      "Requirement already satisfied: nvidia-cufft-cu11==10.9.0.58 in /opt/app-root/lib/python3.8/site-packages (from torch>=1.11.0->pytorch-lightning<3.0.0,>=2.0.8->codeflare-sdk) (10.9.0.58)\n",
      "Requirement already satisfied: nvidia-nvtx-cu11==11.7.91 in /opt/app-root/lib/python3.8/site-packages (from torch>=1.11.0->pytorch-lightning<3.0.0,>=2.0.8->codeflare-sdk) (11.7.91)\n",
      "Requirement already satisfied: nvidia-cuda-runtime-cu11==11.7.99 in /opt/app-root/lib/python3.8/site-packages (from torch>=1.11.0->pytorch-lightning<3.0.0,>=2.0.8->codeflare-sdk) (11.7.99)\n",
      "Requirement already satisfied: nvidia-cuda-cupti-cu11==11.7.101 in /opt/app-root/lib/python3.8/site-packages (from torch>=1.11.0->pytorch-lightning<3.0.0,>=2.0.8->codeflare-sdk) (11.7.101)\n",
      "Requirement already satisfied: triton==2.0.0 in /opt/app-root/lib/python3.8/site-packages (from torch>=1.11.0->pytorch-lightning<3.0.0,>=2.0.8->codeflare-sdk) (2.0.0)\n",
      "Requirement already satisfied: nvidia-nccl-cu11==2.14.3 in /opt/app-root/lib/python3.8/site-packages (from torch>=1.11.0->pytorch-lightning<3.0.0,>=2.0.8->codeflare-sdk) (2.14.3)\n",
      "Requirement already satisfied: nvidia-cusparse-cu11==11.7.4.91 in /opt/app-root/lib/python3.8/site-packages (from torch>=1.11.0->pytorch-lightning<3.0.0,>=2.0.8->codeflare-sdk) (11.7.4.91)\n",
      "Requirement already satisfied: networkx in /opt/app-root/lib/python3.8/site-packages (from torch>=1.11.0->pytorch-lightning<3.0.0,>=2.0.8->codeflare-sdk) (2.8.6)\n",
      "Requirement already satisfied: nvidia-curand-cu11==10.2.10.91 in /opt/app-root/lib/python3.8/site-packages (from torch>=1.11.0->pytorch-lightning<3.0.0,>=2.0.8->codeflare-sdk) (10.2.10.91)\n",
      "Requirement already satisfied: nvidia-cuda-nvrtc-cu11==11.7.99 in /opt/app-root/lib/python3.8/site-packages (from torch>=1.11.0->pytorch-lightning<3.0.0,>=2.0.8->codeflare-sdk) (11.7.99)\n",
      "Requirement already satisfied: nvidia-cublas-cu11==11.10.3.66 in /opt/app-root/lib/python3.8/site-packages (from torch>=1.11.0->pytorch-lightning<3.0.0,>=2.0.8->codeflare-sdk) (11.10.3.66)\n",
      "Requirement already satisfied: nvidia-cusolver-cu11==11.4.0.1 in /opt/app-root/lib/python3.8/site-packages (from torch>=1.11.0->pytorch-lightning<3.0.0,>=2.0.8->codeflare-sdk) (11.4.0.1)\n",
      "Requirement already satisfied: jinja2 in /opt/app-root/lib/python3.8/site-packages (from torch>=1.11.0->pytorch-lightning<3.0.0,>=2.0.8->codeflare-sdk) (3.1.2)\n",
      "Requirement already satisfied: sympy in /opt/app-root/lib/python3.8/site-packages (from torch>=1.11.0->pytorch-lightning<3.0.0,>=2.0.8->codeflare-sdk) (1.12)\n",
      "Requirement already satisfied: nvidia-cudnn-cu11==8.5.0.96 in /opt/app-root/lib/python3.8/site-packages (from torch>=1.11.0->pytorch-lightning<3.0.0,>=2.0.8->codeflare-sdk) (8.5.0.96)\n",
      "Requirement already satisfied: wheel in /opt/app-root/lib/python3.8/site-packages (from nvidia-cublas-cu11==11.10.3.66->torch>=1.11.0->pytorch-lightning<3.0.0,>=2.0.8->codeflare-sdk) (0.37.1)\n",
      "Requirement already satisfied: lit in /opt/app-root/lib/python3.8/site-packages (from triton==2.0.0->torch>=1.11.0->pytorch-lightning<3.0.0,>=2.0.8->codeflare-sdk) (17.0.2)\n",
      "Requirement already satisfied: cmake in /opt/app-root/lib/python3.8/site-packages (from triton==2.0.0->torch>=1.11.0->pytorch-lightning<3.0.0,>=2.0.8->codeflare-sdk) (3.27.6)\n",
      "Requirement already satisfied: platformdirs<3,>=2.4 in /opt/app-root/lib/python3.8/site-packages (from virtualenv<20.21.1,>=20.0.24->ray[default]==2.5.0->codeflare-sdk) (2.5.2)\n",
      "Requirement already satisfied: distlib<1,>=0.3.5 in /opt/app-root/lib/python3.8/site-packages (from virtualenv<20.21.1,>=20.0.24->ray[default]==2.5.0->codeflare-sdk) (0.3.6)\n",
      "Requirement already satisfied: idna<4,>=2.5 in /opt/app-root/lib/python3.8/site-packages (from requests->ray[default]==2.5.0->codeflare-sdk) (3.4)\n",
      "Requirement already satisfied: zipp>=0.5 in /opt/app-root/lib/python3.8/site-packages (from importlib-metadata->codeflare-torchx==0.6.0.dev1->codeflare-sdk) (3.17.0)\n",
      "Requirement already satisfied: rpds-py>=0.7.1 in /opt/app-root/lib/python3.8/site-packages (from jsonschema->ray[default]==2.5.0->codeflare-sdk) (0.10.4)\n",
      "Requirement already satisfied: importlib-resources>=1.4.0 in /opt/app-root/lib/python3.8/site-packages (from jsonschema->ray[default]==2.5.0->codeflare-sdk) (6.1.0)\n",
      "Requirement already satisfied: pkgutil-resolve-name>=1.3.10 in /opt/app-root/lib/python3.8/site-packages (from jsonschema->ray[default]==2.5.0->codeflare-sdk) (1.3.10)\n",
      "Requirement already satisfied: referencing>=0.28.4 in /opt/app-root/lib/python3.8/site-packages (from jsonschema->ray[default]==2.5.0->codeflare-sdk) (0.30.2)\n",
      "Requirement already satisfied: jsonschema-specifications>=2023.03.6 in /opt/app-root/lib/python3.8/site-packages (from jsonschema->ray[default]==2.5.0->codeflare-sdk) (2023.7.1)\n",
      "Requirement already satisfied: opencensus-context>=0.1.3 in /opt/app-root/lib/python3.8/site-packages (from opencensus->ray[default]==2.5.0->codeflare-sdk) (0.1.3)\n",
      "Requirement already satisfied: google-api-core<3.0.0,>=1.0.0 in /opt/app-root/lib/python3.8/site-packages (from opencensus->ray[default]==2.5.0->codeflare-sdk) (2.10.1)\n",
      "Requirement already satisfied: bcrypt>=3.1.3 in /opt/app-root/lib/python3.8/site-packages (from paramiko->openshift-client==1.0.18->codeflare-sdk) (4.0.0)\n",
      "Requirement already satisfied: pynacl>=1.0.1 in /opt/app-root/lib/python3.8/site-packages (from paramiko->openshift-client==1.0.18->codeflare-sdk) (1.5.0)\n",
      "Requirement already satisfied: typing-inspect in /opt/app-root/lib/python3.8/site-packages (from pyre-extensions->codeflare-torchx==0.6.0.dev1->codeflare-sdk) (0.9.0)\n",
      "Requirement already satisfied: oauthlib>=3.0.0 in /opt/app-root/lib/python3.8/site-packages (from requests-oauthlib->kubernetes<27,>=25.3.0->codeflare-sdk) (3.2.1)\n",
      "Requirement already satisfied: wcwidth>=0.1.4 in /opt/app-root/lib/python3.8/site-packages (from blessed>=1.17.1->gpustat>=1.0.0->ray[default]==2.5.0->codeflare-sdk) (0.2.5)\n",
      "Requirement already satisfied: googleapis-common-protos<2.0dev,>=1.56.2 in /opt/app-root/lib/python3.8/site-packages (from google-api-core<3.0.0,>=1.0.0->opencensus->ray[default]==2.5.0->codeflare-sdk) (1.56.4)\n",
      "Requirement already satisfied: pyasn1<0.5.0,>=0.4.6 in /opt/app-root/lib/python3.8/site-packages (from pyasn1-modules>=0.2.1->google-auth>=1.0.1->kubernetes<27,>=25.3.0->codeflare-sdk) (0.4.8)\n",
      "Requirement already satisfied: MarkupSafe>=2.0 in /opt/app-root/lib/python3.8/site-packages (from jinja2->torch>=1.11.0->pytorch-lightning<3.0.0,>=2.0.8->codeflare-sdk) (2.1.1)\n",
      "Requirement already satisfied: mpmath>=0.19 in /opt/app-root/lib/python3.8/site-packages (from sympy->torch>=1.11.0->pytorch-lightning<3.0.0,>=2.0.8->codeflare-sdk) (1.3.0)\n",
      "Requirement already satisfied: mypy-extensions>=0.3.0 in /opt/app-root/lib/python3.8/site-packages (from typing-inspect->pyre-extensions->codeflare-torchx==0.6.0.dev1->codeflare-sdk) (0.4.3)\n",
      "Installing collected packages: urllib3, charset-normalizer\n",
      "  Attempting uninstall: urllib3\n",
      "    Found existing installation: urllib3 2.0.6\n",
      "    Uninstalling urllib3-2.0.6:\n",
      "      Successfully uninstalled urllib3-2.0.6\n",
      "  Attempting uninstall: charset-normalizer\n",
      "    Found existing installation: charset-normalizer 3.3.0\n",
      "    Uninstalling charset-normalizer-3.3.0:\n",
      "      Successfully uninstalled charset-normalizer-3.3.0\n",
      "\u001b[31mERROR: pip's dependency resolver does not currently take into account all the packages that are installed. This behaviour is the source of the following dependency conflicts.\n",
      "codeflare 0.1.2.dev0 requires pickle5>=0.0.11, which is not installed.\u001b[0m\u001b[31m\n",
      "\u001b[0mSuccessfully installed charset-normalizer-2.1.1 urllib3-1.26.17\n",
      "\n",
      "\u001b[1m[\u001b[0m\u001b[34;49mnotice\u001b[0m\u001b[1;39;49m]\u001b[0m\u001b[39;49m A new release of pip available: \u001b[0m\u001b[31;49m22.3\u001b[0m\u001b[39;49m -> \u001b[0m\u001b[32;49m23.2.1\u001b[0m\n",
      "\u001b[1m[\u001b[0m\u001b[34;49mnotice\u001b[0m\u001b[1;39;49m]\u001b[0m\u001b[39;49m To update, run: \u001b[0m\u001b[32;49mpip install --upgrade pip\u001b[0m\n",
      "Requirement already satisfied: accelerate==0.20.3 in /opt/app-root/lib/python3.8/site-packages (from -r 05_dreambooth_finetuning/dreambooth/requirements.txt (line 1)) (0.20.3)\n",
      "Requirement already satisfied: bitsandbytes==0.39.1 in /opt/app-root/lib/python3.8/site-packages (from -r 05_dreambooth_finetuning/dreambooth/requirements.txt (line 2)) (0.39.1)\n",
      "Requirement already satisfied: diffusers==0.19.3 in /opt/app-root/lib/python3.8/site-packages (from -r 05_dreambooth_finetuning/dreambooth/requirements.txt (line 3)) (0.19.3)\n",
      "Requirement already satisfied: flax==0.6.11 in /opt/app-root/lib/python3.8/site-packages (from -r 05_dreambooth_finetuning/dreambooth/requirements.txt (line 4)) (0.6.11)\n",
      "Requirement already satisfied: ipywidgets in /opt/app-root/lib/python3.8/site-packages (from -r 05_dreambooth_finetuning/dreambooth/requirements.txt (line 5)) (8.1.1)\n",
      "Requirement already satisfied: huggingface_hub==0.16.2 in /opt/app-root/lib/python3.8/site-packages (from -r 05_dreambooth_finetuning/dreambooth/requirements.txt (line 6)) (0.16.2)\n",
      "Requirement already satisfied: numpy==1.24.4 in /opt/app-root/lib/python3.8/site-packages (from -r 05_dreambooth_finetuning/dreambooth/requirements.txt (line 7)) (1.24.4)\n",
      "Requirement already satisfied: torch==2.0.1 in /opt/app-root/lib/python3.8/site-packages (from -r 05_dreambooth_finetuning/dreambooth/requirements.txt (line 8)) (2.0.1)\n",
      "Requirement already satisfied: torchvision==0.15.2 in /opt/app-root/lib/python3.8/site-packages (from -r 05_dreambooth_finetuning/dreambooth/requirements.txt (line 9)) (0.15.2)\n",
      "Requirement already satisfied: transformers==4.30.2 in /opt/app-root/lib/python3.8/site-packages (from -r 05_dreambooth_finetuning/dreambooth/requirements.txt (line 10)) (4.30.2)\n",
      "Requirement already satisfied: pyyaml in /opt/app-root/lib/python3.8/site-packages (from accelerate==0.20.3->-r 05_dreambooth_finetuning/dreambooth/requirements.txt (line 1)) (6.0.1)\n",
      "Requirement already satisfied: packaging>=20.0 in /opt/app-root/lib/python3.8/site-packages (from accelerate==0.20.3->-r 05_dreambooth_finetuning/dreambooth/requirements.txt (line 1)) (23.2)\n",
      "Requirement already satisfied: psutil in /opt/app-root/lib/python3.8/site-packages (from accelerate==0.20.3->-r 05_dreambooth_finetuning/dreambooth/requirements.txt (line 1)) (5.9.2)\n",
      "Requirement already satisfied: regex!=2019.12.17 in /opt/app-root/lib/python3.8/site-packages (from diffusers==0.19.3->-r 05_dreambooth_finetuning/dreambooth/requirements.txt (line 3)) (2023.8.8)\n",
      "Requirement already satisfied: safetensors>=0.3.1 in /opt/app-root/lib/python3.8/site-packages (from diffusers==0.19.3->-r 05_dreambooth_finetuning/dreambooth/requirements.txt (line 3)) (0.4.0)\n",
      "Requirement already satisfied: Pillow in /opt/app-root/lib/python3.8/site-packages (from diffusers==0.19.3->-r 05_dreambooth_finetuning/dreambooth/requirements.txt (line 3)) (9.2.0)\n",
      "Requirement already satisfied: filelock in /opt/app-root/lib/python3.8/site-packages (from diffusers==0.19.3->-r 05_dreambooth_finetuning/dreambooth/requirements.txt (line 3)) (3.12.4)\n",
      "Requirement already satisfied: requests in /opt/app-root/lib/python3.8/site-packages (from diffusers==0.19.3->-r 05_dreambooth_finetuning/dreambooth/requirements.txt (line 3)) (2.31.0)\n",
      "Requirement already satisfied: importlib-metadata in /opt/app-root/lib/python3.8/site-packages (from diffusers==0.19.3->-r 05_dreambooth_finetuning/dreambooth/requirements.txt (line 3)) (4.12.0)\n",
      "Requirement already satisfied: optax in /opt/app-root/lib/python3.8/site-packages (from flax==0.6.11->-r 05_dreambooth_finetuning/dreambooth/requirements.txt (line 4)) (0.1.7)\n",
      "Requirement already satisfied: typing-extensions>=4.1.1 in /opt/app-root/lib/python3.8/site-packages (from flax==0.6.11->-r 05_dreambooth_finetuning/dreambooth/requirements.txt (line 4)) (4.3.0)\n",
      "Requirement already satisfied: msgpack in /opt/app-root/lib/python3.8/site-packages (from flax==0.6.11->-r 05_dreambooth_finetuning/dreambooth/requirements.txt (line 4)) (1.0.7)\n",
      "Requirement already satisfied: tensorstore in /opt/app-root/lib/python3.8/site-packages (from flax==0.6.11->-r 05_dreambooth_finetuning/dreambooth/requirements.txt (line 4)) (0.1.45)\n",
      "Requirement already satisfied: rich>=11.1 in /opt/app-root/lib/python3.8/site-packages (from flax==0.6.11->-r 05_dreambooth_finetuning/dreambooth/requirements.txt (line 4)) (12.6.0)\n",
      "Requirement already satisfied: orbax-checkpoint in /opt/app-root/lib/python3.8/site-packages (from flax==0.6.11->-r 05_dreambooth_finetuning/dreambooth/requirements.txt (line 4)) (0.2.3)\n",
      "Requirement already satisfied: jax>=0.4.2 in /opt/app-root/lib/python3.8/site-packages (from flax==0.6.11->-r 05_dreambooth_finetuning/dreambooth/requirements.txt (line 4)) (0.4.13)\n",
      "Requirement already satisfied: fsspec in /opt/app-root/lib/python3.8/site-packages (from huggingface_hub==0.16.2->-r 05_dreambooth_finetuning/dreambooth/requirements.txt (line 6)) (2023.9.2)\n",
      "Requirement already satisfied: tqdm>=4.42.1 in /opt/app-root/lib/python3.8/site-packages (from huggingface_hub==0.16.2->-r 05_dreambooth_finetuning/dreambooth/requirements.txt (line 6)) (4.64.1)\n",
      "Requirement already satisfied: nvidia-nccl-cu11==2.14.3 in /opt/app-root/lib/python3.8/site-packages (from torch==2.0.1->-r 05_dreambooth_finetuning/dreambooth/requirements.txt (line 8)) (2.14.3)\n",
      "Requirement already satisfied: nvidia-cusolver-cu11==11.4.0.1 in /opt/app-root/lib/python3.8/site-packages (from torch==2.0.1->-r 05_dreambooth_finetuning/dreambooth/requirements.txt (line 8)) (11.4.0.1)\n",
      "Requirement already satisfied: nvidia-cudnn-cu11==8.5.0.96 in /opt/app-root/lib/python3.8/site-packages (from torch==2.0.1->-r 05_dreambooth_finetuning/dreambooth/requirements.txt (line 8)) (8.5.0.96)\n",
      "Requirement already satisfied: nvidia-cufft-cu11==10.9.0.58 in /opt/app-root/lib/python3.8/site-packages (from torch==2.0.1->-r 05_dreambooth_finetuning/dreambooth/requirements.txt (line 8)) (10.9.0.58)\n",
      "Requirement already satisfied: triton==2.0.0 in /opt/app-root/lib/python3.8/site-packages (from torch==2.0.1->-r 05_dreambooth_finetuning/dreambooth/requirements.txt (line 8)) (2.0.0)\n",
      "Requirement already satisfied: networkx in /opt/app-root/lib/python3.8/site-packages (from torch==2.0.1->-r 05_dreambooth_finetuning/dreambooth/requirements.txt (line 8)) (2.8.6)\n",
      "Requirement already satisfied: sympy in /opt/app-root/lib/python3.8/site-packages (from torch==2.0.1->-r 05_dreambooth_finetuning/dreambooth/requirements.txt (line 8)) (1.12)\n",
      "Requirement already satisfied: jinja2 in /opt/app-root/lib/python3.8/site-packages (from torch==2.0.1->-r 05_dreambooth_finetuning/dreambooth/requirements.txt (line 8)) (3.1.2)\n",
      "Requirement already satisfied: nvidia-cuda-nvrtc-cu11==11.7.99 in /opt/app-root/lib/python3.8/site-packages (from torch==2.0.1->-r 05_dreambooth_finetuning/dreambooth/requirements.txt (line 8)) (11.7.99)\n",
      "Requirement already satisfied: nvidia-cuda-runtime-cu11==11.7.99 in /opt/app-root/lib/python3.8/site-packages (from torch==2.0.1->-r 05_dreambooth_finetuning/dreambooth/requirements.txt (line 8)) (11.7.99)\n",
      "Requirement already satisfied: nvidia-cublas-cu11==11.10.3.66 in /opt/app-root/lib/python3.8/site-packages (from torch==2.0.1->-r 05_dreambooth_finetuning/dreambooth/requirements.txt (line 8)) (11.10.3.66)\n",
      "Requirement already satisfied: nvidia-curand-cu11==10.2.10.91 in /opt/app-root/lib/python3.8/site-packages (from torch==2.0.1->-r 05_dreambooth_finetuning/dreambooth/requirements.txt (line 8)) (10.2.10.91)\n",
      "Requirement already satisfied: nvidia-cuda-cupti-cu11==11.7.101 in /opt/app-root/lib/python3.8/site-packages (from torch==2.0.1->-r 05_dreambooth_finetuning/dreambooth/requirements.txt (line 8)) (11.7.101)\n",
      "Requirement already satisfied: nvidia-cusparse-cu11==11.7.4.91 in /opt/app-root/lib/python3.8/site-packages (from torch==2.0.1->-r 05_dreambooth_finetuning/dreambooth/requirements.txt (line 8)) (11.7.4.91)\n",
      "Requirement already satisfied: nvidia-nvtx-cu11==11.7.91 in /opt/app-root/lib/python3.8/site-packages (from torch==2.0.1->-r 05_dreambooth_finetuning/dreambooth/requirements.txt (line 8)) (11.7.91)\n",
      "Requirement already satisfied: tokenizers!=0.11.3,<0.14,>=0.11.1 in /opt/app-root/lib/python3.8/site-packages (from transformers==4.30.2->-r 05_dreambooth_finetuning/dreambooth/requirements.txt (line 10)) (0.13.3)\n",
      "Requirement already satisfied: setuptools in /opt/app-root/lib/python3.8/site-packages (from nvidia-cublas-cu11==11.10.3.66->torch==2.0.1->-r 05_dreambooth_finetuning/dreambooth/requirements.txt (line 8)) (65.5.0)\n",
      "Requirement already satisfied: wheel in /opt/app-root/lib/python3.8/site-packages (from nvidia-cublas-cu11==11.10.3.66->torch==2.0.1->-r 05_dreambooth_finetuning/dreambooth/requirements.txt (line 8)) (0.37.1)\n",
      "Requirement already satisfied: cmake in /opt/app-root/lib/python3.8/site-packages (from triton==2.0.0->torch==2.0.1->-r 05_dreambooth_finetuning/dreambooth/requirements.txt (line 8)) (3.27.6)\n",
      "Requirement already satisfied: lit in /opt/app-root/lib/python3.8/site-packages (from triton==2.0.0->torch==2.0.1->-r 05_dreambooth_finetuning/dreambooth/requirements.txt (line 8)) (17.0.2)\n",
      "Requirement already satisfied: traitlets>=4.3.1 in /opt/app-root/lib/python3.8/site-packages (from ipywidgets->-r 05_dreambooth_finetuning/dreambooth/requirements.txt (line 5)) (5.4.0)\n",
      "Requirement already satisfied: ipython>=6.1.0 in /opt/app-root/lib/python3.8/site-packages (from ipywidgets->-r 05_dreambooth_finetuning/dreambooth/requirements.txt (line 5)) (8.5.0)\n",
      "Requirement already satisfied: comm>=0.1.3 in /opt/app-root/lib/python3.8/site-packages (from ipywidgets->-r 05_dreambooth_finetuning/dreambooth/requirements.txt (line 5)) (0.1.4)\n",
      "Requirement already satisfied: widgetsnbextension~=4.0.9 in /opt/app-root/lib/python3.8/site-packages (from ipywidgets->-r 05_dreambooth_finetuning/dreambooth/requirements.txt (line 5)) (4.0.9)\n",
      "Requirement already satisfied: jupyterlab-widgets~=3.0.9 in /opt/app-root/lib/python3.8/site-packages (from ipywidgets->-r 05_dreambooth_finetuning/dreambooth/requirements.txt (line 5)) (3.0.9)\n",
      "Requirement already satisfied: pickleshare in /opt/app-root/lib/python3.8/site-packages (from ipython>=6.1.0->ipywidgets->-r 05_dreambooth_finetuning/dreambooth/requirements.txt (line 5)) (0.7.5)\n",
      "Requirement already satisfied: stack-data in /opt/app-root/lib/python3.8/site-packages (from ipython>=6.1.0->ipywidgets->-r 05_dreambooth_finetuning/dreambooth/requirements.txt (line 5)) (0.5.1)\n",
      "Requirement already satisfied: jedi>=0.16 in /opt/app-root/lib/python3.8/site-packages (from ipython>=6.1.0->ipywidgets->-r 05_dreambooth_finetuning/dreambooth/requirements.txt (line 5)) (0.18.1)\n",
      "Requirement already satisfied: matplotlib-inline in /opt/app-root/lib/python3.8/site-packages (from ipython>=6.1.0->ipywidgets->-r 05_dreambooth_finetuning/dreambooth/requirements.txt (line 5)) (0.1.6)\n",
      "Requirement already satisfied: backcall in /opt/app-root/lib/python3.8/site-packages (from ipython>=6.1.0->ipywidgets->-r 05_dreambooth_finetuning/dreambooth/requirements.txt (line 5)) (0.2.0)\n",
      "Requirement already satisfied: pexpect>4.3 in /opt/app-root/lib/python3.8/site-packages (from ipython>=6.1.0->ipywidgets->-r 05_dreambooth_finetuning/dreambooth/requirements.txt (line 5)) (4.8.0)\n",
      "Requirement already satisfied: decorator in /opt/app-root/lib/python3.8/site-packages (from ipython>=6.1.0->ipywidgets->-r 05_dreambooth_finetuning/dreambooth/requirements.txt (line 5)) (5.1.1)\n",
      "Requirement already satisfied: prompt-toolkit<3.1.0,>3.0.1 in /opt/app-root/lib/python3.8/site-packages (from ipython>=6.1.0->ipywidgets->-r 05_dreambooth_finetuning/dreambooth/requirements.txt (line 5)) (3.0.31)\n",
      "Requirement already satisfied: pygments>=2.4.0 in /opt/app-root/lib/python3.8/site-packages (from ipython>=6.1.0->ipywidgets->-r 05_dreambooth_finetuning/dreambooth/requirements.txt (line 5)) (2.13.0)\n",
      "Requirement already satisfied: scipy>=1.7 in /opt/app-root/lib/python3.8/site-packages (from jax>=0.4.2->flax==0.6.11->-r 05_dreambooth_finetuning/dreambooth/requirements.txt (line 4)) (1.8.1)\n",
      "Requirement already satisfied: ml-dtypes>=0.1.0 in /opt/app-root/lib/python3.8/site-packages (from jax>=0.4.2->flax==0.6.11->-r 05_dreambooth_finetuning/dreambooth/requirements.txt (line 4)) (0.2.0)\n",
      "Requirement already satisfied: opt-einsum in /opt/app-root/lib/python3.8/site-packages (from jax>=0.4.2->flax==0.6.11->-r 05_dreambooth_finetuning/dreambooth/requirements.txt (line 4)) (3.3.0)\n",
      "Requirement already satisfied: zipp>=0.5 in /opt/app-root/lib/python3.8/site-packages (from importlib-metadata->diffusers==0.19.3->-r 05_dreambooth_finetuning/dreambooth/requirements.txt (line 3)) (3.17.0)\n",
      "Requirement already satisfied: commonmark<0.10.0,>=0.9.0 in /opt/app-root/lib/python3.8/site-packages (from rich>=11.1->flax==0.6.11->-r 05_dreambooth_finetuning/dreambooth/requirements.txt (line 4)) (0.9.1)\n",
      "Requirement already satisfied: MarkupSafe>=2.0 in /opt/app-root/lib/python3.8/site-packages (from jinja2->torch==2.0.1->-r 05_dreambooth_finetuning/dreambooth/requirements.txt (line 8)) (2.1.1)\n",
      "Requirement already satisfied: jaxlib>=0.1.37 in /opt/app-root/lib/python3.8/site-packages (from optax->flax==0.6.11->-r 05_dreambooth_finetuning/dreambooth/requirements.txt (line 4)) (0.4.13)\n",
      "Requirement already satisfied: absl-py>=0.7.1 in /opt/app-root/lib/python3.8/site-packages (from optax->flax==0.6.11->-r 05_dreambooth_finetuning/dreambooth/requirements.txt (line 4)) (2.0.0)\n",
      "Requirement already satisfied: chex>=0.1.5 in /opt/app-root/lib/python3.8/site-packages (from optax->flax==0.6.11->-r 05_dreambooth_finetuning/dreambooth/requirements.txt (line 4)) (0.1.7)\n",
      "Requirement already satisfied: etils in /opt/app-root/lib/python3.8/site-packages (from orbax-checkpoint->flax==0.6.11->-r 05_dreambooth_finetuning/dreambooth/requirements.txt (line 4)) (1.3.0)\n",
      "Requirement already satisfied: nest_asyncio in /opt/app-root/lib/python3.8/site-packages (from orbax-checkpoint->flax==0.6.11->-r 05_dreambooth_finetuning/dreambooth/requirements.txt (line 4)) (1.5.5)\n",
      "Requirement already satisfied: cached_property in /opt/app-root/lib/python3.8/site-packages (from orbax-checkpoint->flax==0.6.11->-r 05_dreambooth_finetuning/dreambooth/requirements.txt (line 4)) (1.5.2)\n",
      "Requirement already satisfied: importlib_resources in /opt/app-root/lib/python3.8/site-packages (from orbax-checkpoint->flax==0.6.11->-r 05_dreambooth_finetuning/dreambooth/requirements.txt (line 4)) (6.1.0)\n",
      "Requirement already satisfied: charset-normalizer<4,>=2 in /opt/app-root/lib/python3.8/site-packages (from requests->diffusers==0.19.3->-r 05_dreambooth_finetuning/dreambooth/requirements.txt (line 3)) (2.1.1)\n",
      "Requirement already satisfied: idna<4,>=2.5 in /opt/app-root/lib/python3.8/site-packages (from requests->diffusers==0.19.3->-r 05_dreambooth_finetuning/dreambooth/requirements.txt (line 3)) (3.4)\n",
      "Requirement already satisfied: urllib3<3,>=1.21.1 in /opt/app-root/lib/python3.8/site-packages (from requests->diffusers==0.19.3->-r 05_dreambooth_finetuning/dreambooth/requirements.txt (line 3)) (1.26.17)\n",
      "Requirement already satisfied: certifi>=2017.4.17 in /opt/app-root/lib/python3.8/site-packages (from requests->diffusers==0.19.3->-r 05_dreambooth_finetuning/dreambooth/requirements.txt (line 3)) (2023.7.22)\n",
      "Requirement already satisfied: mpmath>=0.19 in /opt/app-root/lib/python3.8/site-packages (from sympy->torch==2.0.1->-r 05_dreambooth_finetuning/dreambooth/requirements.txt (line 8)) (1.3.0)\n",
      "Requirement already satisfied: toolz>=0.9.0 in /opt/app-root/lib/python3.8/site-packages (from chex>=0.1.5->optax->flax==0.6.11->-r 05_dreambooth_finetuning/dreambooth/requirements.txt (line 4)) (0.12.0)\n",
      "Requirement already satisfied: dm-tree>=0.1.5 in /opt/app-root/lib/python3.8/site-packages (from chex>=0.1.5->optax->flax==0.6.11->-r 05_dreambooth_finetuning/dreambooth/requirements.txt (line 4)) (0.1.8)\n",
      "Requirement already satisfied: parso<0.9.0,>=0.8.0 in /opt/app-root/lib/python3.8/site-packages (from jedi>=0.16->ipython>=6.1.0->ipywidgets->-r 05_dreambooth_finetuning/dreambooth/requirements.txt (line 5)) (0.8.3)\n",
      "Requirement already satisfied: ptyprocess>=0.5 in /opt/app-root/lib/python3.8/site-packages (from pexpect>4.3->ipython>=6.1.0->ipywidgets->-r 05_dreambooth_finetuning/dreambooth/requirements.txt (line 5)) (0.7.0)\n",
      "Requirement already satisfied: wcwidth in /opt/app-root/lib/python3.8/site-packages (from prompt-toolkit<3.1.0,>3.0.1->ipython>=6.1.0->ipywidgets->-r 05_dreambooth_finetuning/dreambooth/requirements.txt (line 5)) (0.2.5)\n",
      "Requirement already satisfied: asttokens in /opt/app-root/lib/python3.8/site-packages (from stack-data->ipython>=6.1.0->ipywidgets->-r 05_dreambooth_finetuning/dreambooth/requirements.txt (line 5)) (2.0.8)\n",
      "Requirement already satisfied: pure-eval in /opt/app-root/lib/python3.8/site-packages (from stack-data->ipython>=6.1.0->ipywidgets->-r 05_dreambooth_finetuning/dreambooth/requirements.txt (line 5)) (0.2.2)\n",
      "Requirement already satisfied: executing in /opt/app-root/lib/python3.8/site-packages (from stack-data->ipython>=6.1.0->ipywidgets->-r 05_dreambooth_finetuning/dreambooth/requirements.txt (line 5)) (1.2.0)\n",
      "Requirement already satisfied: six in /opt/app-root/lib/python3.8/site-packages (from asttokens->stack-data->ipython>=6.1.0->ipywidgets->-r 05_dreambooth_finetuning/dreambooth/requirements.txt (line 5)) (1.16.0)\n",
      "\n",
      "\u001b[1m[\u001b[0m\u001b[34;49mnotice\u001b[0m\u001b[1;39;49m]\u001b[0m\u001b[39;49m A new release of pip available: \u001b[0m\u001b[31;49m22.3\u001b[0m\u001b[39;49m -> \u001b[0m\u001b[32;49m23.2.1\u001b[0m\n",
      "\u001b[1m[\u001b[0m\u001b[34;49mnotice\u001b[0m\u001b[1;39;49m]\u001b[0m\u001b[39;49m To update, run: \u001b[0m\u001b[32;49mpip install --upgrade pip\u001b[0m\n"
     ]
    }
   ],
   "source": [
    "!pip install codeflare-sdk\n",
    "!pip install -Ur 05_dreambooth_finetuning/dreambooth/requirements.txt"
   ]
  },
  {
   "cell_type": "markdown",
   "id": "3d662b48-f4bb-47d4-bf23-da97a38bd5c0",
   "metadata": {},
   "source": [
    "## Prep Infra"
   ]
  },
  {
   "cell_type": "code",
   "execution_count": 4,
   "id": "1d39ba0c-5500-452c-9166-372081db74d3",
   "metadata": {},
   "outputs": [],
   "source": [
    "# Import pieces from codeflare-sdk\n",
    "from codeflare_sdk.cluster.cluster import Cluster, ClusterConfiguration\n",
    "from codeflare_sdk.cluster.auth import TokenAuthentication"
   ]
  },
  {
   "cell_type": "code",
   "execution_count": 5,
   "id": "d8603376-e101-4112-9998-dca160caa43a",
   "metadata": {},
   "outputs": [
    {
     "data": {
      "text/plain": [
       "'Logged into https://api.aisrhods-dim.t0xq.p1.openshiftapps.com:6443'"
      ]
     },
     "execution_count": 5,
     "metadata": {},
     "output_type": "execute_result"
    }
   ],
   "source": [
    "# Create authentication object for user permissions\n",
    "# IF unused, SDK will automatically check for default kubeconfig, then in-cluster config\n",
    "# KubeConfigFileAuthentication can also be used to specify kubeconfig path manually\n",
    "auth = TokenAuthentication(\n",
    "    token = \"sha256~oBoJq1LrYfhkxEFMfROmDKEkvW9I5Ag81ZHCHyo0Eek\",\n",
    "    server = \"https://api.aisrhods-dim.t0xq.p1.openshiftapps.com:6443\",\n",
    "    skip_tls=False\n",
    ")\n",
    "auth.login()"
   ]
  },
  {
   "cell_type": "code",
   "execution_count": null,
   "id": "b6c05b69-4ce8-45ef-82d3-bacb2491bee8",
   "metadata": {},
   "outputs": [],
   "source": []
  },
  {
   "cell_type": "code",
   "execution_count": 6,
   "id": "3f32119a-c4ee-4163-b103-d9ca3bddbdb5",
   "metadata": {},
   "outputs": [
    {
     "name": "stdout",
     "output_type": "stream",
     "text": [
      "Written to: stab-diff-model.yaml\n"
     ]
    }
   ],
   "source": [
    "cluster = Cluster(ClusterConfiguration(\n",
    "    name='stab-diff-model',\n",
    "    namespace='default',\n",
    "    num_workers=2,\n",
    "    min_cpus=16,\n",
    "    max_cpus=16,\n",
    "    min_memory=64,\n",
    "    max_memory=64,\n",
    "    num_gpus=1,\n",
    "    instascale=True, #<---instascale enabled\n",
    "    machine_types=[\"m5.xlarge\", \"g5.4xlarge\"],\n",
    "))"
   ]
  },
  {
   "cell_type": "code",
   "execution_count": 9,
   "id": "31c529bc-46d1-41de-8715-34a6e331ac38",
   "metadata": {},
   "outputs": [],
   "source": [
    "cluster.up()"
   ]
  },
  {
   "cell_type": "code",
   "execution_count": 13,
   "id": "0045deab-ccc3-43c8-bd89-dcd842f6695e",
   "metadata": {},
   "outputs": [],
   "source": [
    "# cluster.down()"
   ]
  },
  {
   "cell_type": "code",
   "execution_count": 12,
   "id": "34fb9b32-ae47-406f-83d5-87181a5b057a",
   "metadata": {},
   "outputs": [
    {
     "data": {
      "text/html": [
       "<pre style=\"white-space:pre;overflow-x:auto;line-height:normal;font-family:Menlo,'DejaVu Sans Mono',consolas,'Courier New',monospace\"><span style=\"font-style: italic\">                      </span><span style=\"font-weight: bold; font-style: italic\"> 🚀 CodeFlare Cluster Details 🚀</span><span style=\"font-style: italic\">                      </span>\n",
       "<span style=\"font-weight: bold\">                                                                            </span>\n",
       " ╭────────────────────────────────────────────────────────────────────────╮ \n",
       " │   <span style=\"color: #c0c0c0; text-decoration-color: #c0c0c0; background-color: #008000; font-weight: bold\">Name</span>                                                                 │ \n",
       " │   <span style=\"font-weight: bold; text-decoration: underline\">stab-diff-model</span>                                        Inactive ❌   │ \n",
       " │                                                                        │ \n",
       " │   <span style=\"font-weight: bold\">URI:</span> ray://stab-diff-model-head-svc.default.svc:10001                │ \n",
       " │                                                                        │ \n",
       " │   Dashboard🔗                                                          │ \n",
       " │                                                                        │ \n",
       " │  <span style=\"font-style: italic\">                     Cluster Resources                     </span>           │ \n",
       " │   ╭── Workers ──╮  ╭───────── Worker specs(each) ─────────╮            │ \n",
       " │   │ <span style=\"font-weight: bold\"> # Workers </span> │  │ <span style=\"font-weight: bold\"> Memory      CPU         GPU        </span> │            │ \n",
       " │   │ <span style=\"color: #800080; text-decoration-color: #800080\">           </span> │  │ <span style=\"color: #008080; text-decoration-color: #008080\">            </span><span style=\"color: #800080; text-decoration-color: #800080\">                        </span> │            │ \n",
       " │   │ <span style=\"color: #800080; text-decoration-color: #800080\"> 2         </span> │  │ <span style=\"color: #008080; text-decoration-color: #008080\"> 64~64      </span><span style=\"color: #800080; text-decoration-color: #800080\"> 16          1          </span> │            │ \n",
       " │   │ <span style=\"color: #800080; text-decoration-color: #800080\">           </span> │  │ <span style=\"color: #008080; text-decoration-color: #008080\">            </span><span style=\"color: #800080; text-decoration-color: #800080\">                        </span> │            │ \n",
       " │   ╰─────────────╯  ╰──────────────────────────────────────╯            │ \n",
       " ╰────────────────────────────────────────────────────────────────────────╯ \n",
       "</pre>\n"
      ],
      "text/plain": [
       "\u001b[3m                      \u001b[0m\u001b[1;3m 🚀 CodeFlare Cluster Details 🚀\u001b[0m\u001b[3m                      \u001b[0m\n",
       "\u001b[1m \u001b[0m\u001b[1m                                                                          \u001b[0m\u001b[1m \u001b[0m\n",
       " ╭────────────────────────────────────────────────────────────────────────╮ \n",
       " │   \u001b[1;37;42mName\u001b[0m                                                                 │ \n",
       " │   \u001b[1;4mstab-diff-model\u001b[0m                                        Inactive ❌   │ \n",
       " │                                                                        │ \n",
       " │   \u001b[1mURI:\u001b[0m ray://stab-diff-model-head-svc.default.svc:10001                │ \n",
       " │                                                                        │ \n",
       " │   Dashboard🔗                                                          │ \n",
       " │                                                                        │ \n",
       " │  \u001b[3m                     Cluster Resources                     \u001b[0m           │ \n",
       " │   ╭── Workers ──╮  ╭───────── Worker specs(each) ─────────╮            │ \n",
       " │   │ \u001b[1m \u001b[0m\u001b[1m# Workers\u001b[0m\u001b[1m \u001b[0m │  │ \u001b[1m \u001b[0m\u001b[1mMemory    \u001b[0m\u001b[1m \u001b[0m\u001b[1m \u001b[0m\u001b[1mCPU       \u001b[0m\u001b[1m \u001b[0m\u001b[1m \u001b[0m\u001b[1mGPU       \u001b[0m\u001b[1m \u001b[0m │            │ \n",
       " │   │ \u001b[35m \u001b[0m\u001b[35m         \u001b[0m\u001b[35m \u001b[0m │  │ \u001b[36m \u001b[0m\u001b[36m          \u001b[0m\u001b[36m \u001b[0m\u001b[35m \u001b[0m\u001b[35m          \u001b[0m\u001b[35m \u001b[0m\u001b[35m \u001b[0m\u001b[35m          \u001b[0m\u001b[35m \u001b[0m │            │ \n",
       " │   │ \u001b[35m \u001b[0m\u001b[35m2        \u001b[0m\u001b[35m \u001b[0m │  │ \u001b[36m \u001b[0m\u001b[36m64~64     \u001b[0m\u001b[36m \u001b[0m\u001b[35m \u001b[0m\u001b[35m16        \u001b[0m\u001b[35m \u001b[0m\u001b[35m \u001b[0m\u001b[35m1         \u001b[0m\u001b[35m \u001b[0m │            │ \n",
       " │   │ \u001b[35m \u001b[0m\u001b[35m         \u001b[0m\u001b[35m \u001b[0m │  │ \u001b[36m \u001b[0m\u001b[36m          \u001b[0m\u001b[36m \u001b[0m\u001b[35m \u001b[0m\u001b[35m          \u001b[0m\u001b[35m \u001b[0m\u001b[35m \u001b[0m\u001b[35m          \u001b[0m\u001b[35m \u001b[0m │            │ \n",
       " │   ╰─────────────╯  ╰──────────────────────────────────────╯            │ \n",
       " ╰────────────────────────────────────────────────────────────────────────╯ \n"
      ]
     },
     "metadata": {},
     "output_type": "display_data"
    },
    {
     "data": {
      "text/plain": [
       "RayCluster(name='stab-diff-model', status=<CodeFlareClusterStatus.QUEUEING: 4>, workers=2, worker_mem_min=64, worker_mem_max=64, worker_cpu=16, worker_gpu=1, namespace='default', dashboard='Dashboard route not available yet, have you run cluster.up()?')"
      ]
     },
     "execution_count": 12,
     "metadata": {},
     "output_type": "execute_result"
    }
   ],
   "source": [
    "cluster.details()"
   ]
  },
  {
   "cell_type": "code",
   "execution_count": 11,
   "id": "ffc5b3cc-594b-4144-9933-7d8f81f672fd",
   "metadata": {},
   "outputs": [
    {
     "data": {
      "text/html": [
       "<pre style=\"white-space:pre;overflow-x:auto;line-height:normal;font-family:Menlo,'DejaVu Sans Mono',consolas,'Courier New',monospace\">╭────────────────────────────────╮\n",
       "│ <span style=\"font-style: italic\"> </span><span style=\"font-weight: bold; font-style: italic\"> 🚀 Cluster Queue Status 🚀</span><span style=\"font-style: italic\">  </span> │\n",
       "│ +-----------------+----------+ │\n",
       "│ |<span style=\"font-weight: bold\"> Name            </span>|<span style=\"font-weight: bold\"> Status   </span>| │\n",
       "│ +=================+==========+ │\n",
       "│ |<span style=\"color: #008080; text-decoration-color: #008080\"> stab-diff-model </span>|<span style=\"color: #800080; text-decoration-color: #800080\"> queueing </span>| │\n",
       "│ |<span style=\"color: #008080; text-decoration-color: #008080\">                 </span>|<span style=\"color: #800080; text-decoration-color: #800080\">          </span>| │\n",
       "│ +-----------------+----------+ │\n",
       "╰────────────────────────────────╯\n",
       "</pre>\n"
      ],
      "text/plain": [
       "╭────────────────────────────────╮\n",
       "│ \u001b[3m \u001b[0m\u001b[1;3m 🚀 Cluster Queue Status 🚀\u001b[0m\u001b[3m  \u001b[0m │\n",
       "│ +-----------------+----------+ │\n",
       "│ |\u001b[1m \u001b[0m\u001b[1mName           \u001b[0m\u001b[1m \u001b[0m|\u001b[1m \u001b[0m\u001b[1mStatus  \u001b[0m\u001b[1m \u001b[0m| │\n",
       "│ +=================+==========+ │\n",
       "│ |\u001b[36m \u001b[0m\u001b[36mstab-diff-model\u001b[0m\u001b[36m \u001b[0m|\u001b[35m \u001b[0m\u001b[35mqueueing\u001b[0m\u001b[35m \u001b[0m| │\n",
       "│ |\u001b[36m \u001b[0m\u001b[36m               \u001b[0m\u001b[36m \u001b[0m|\u001b[35m \u001b[0m\u001b[35m        \u001b[0m\u001b[35m \u001b[0m| │\n",
       "│ +-----------------+----------+ │\n",
       "╰────────────────────────────────╯\n"
      ]
     },
     "metadata": {},
     "output_type": "display_data"
    },
    {
     "data": {
      "text/plain": [
       "(<CodeFlareClusterStatus.QUEUEING: 4>, False)"
      ]
     },
     "execution_count": 11,
     "metadata": {},
     "output_type": "execute_result"
    }
   ],
   "source": [
    "cluster.status()"
   ]
  },
  {
   "cell_type": "code",
   "execution_count": null,
   "id": "23352fd5",
   "metadata": {},
   "outputs": [],
   "source": [
    "import codeflare_sdk as cf"
   ]
  },
  {
   "cell_type": "code",
   "execution_count": 63,
   "id": "0c30cd22-f9a7-4877-8561-8b958eccdf13",
   "metadata": {},
   "outputs": [
    {
     "data": {
      "text/html": [
       "<pre style=\"white-space:pre;overflow-x:auto;line-height:normal;font-family:Menlo,'DejaVu Sans Mono',consolas,'Courier New',monospace\"><span style=\"color: #800000; text-decoration-color: #800000\">╭─────────────────────────────── </span><span style=\"color: #800000; text-decoration-color: #800000; font-weight: bold\">Traceback </span><span style=\"color: #bf7f7f; text-decoration-color: #bf7f7f; font-weight: bold\">(most recent call last)</span><span style=\"color: #800000; text-decoration-color: #800000\"> ────────────────────────────────╮</span>\n",
       "<span style=\"color: #800000; text-decoration-color: #800000\">│</span> <span style=\"color: #bfbf7f; text-decoration-color: #bfbf7f\">/tmp/ipykernel_344/</span><span style=\"color: #808000; text-decoration-color: #808000; font-weight: bold\">2159714274.py</span>:<span style=\"color: #0000ff; text-decoration-color: #0000ff\">1</span> in <span style=\"color: #00ff00; text-decoration-color: #00ff00\">&lt;module&gt;</span>                                                   <span style=\"color: #800000; text-decoration-color: #800000\">│</span>\n",
       "<span style=\"color: #800000; text-decoration-color: #800000\">│</span>                                                                                                  <span style=\"color: #800000; text-decoration-color: #800000\">│</span>\n",
       "<span style=\"color: #800000; text-decoration-color: #800000\">│</span> <span style=\"color: #800000; text-decoration-color: #800000; font-style: italic\">[Errno 2] No such file or directory: '/tmp/ipykernel_344/2159714274.py'</span>                          <span style=\"color: #800000; text-decoration-color: #800000\">│</span>\n",
       "<span style=\"color: #800000; text-decoration-color: #800000\">╰──────────────────────────────────────────────────────────────────────────────────────────────────╯</span>\n",
       "<span style=\"color: #ff0000; text-decoration-color: #ff0000; font-weight: bold\">NameError: </span>name <span style=\"color: #008000; text-decoration-color: #008000\">'list_all_clusters'</span> is not defined\n",
       "</pre>\n"
      ],
      "text/plain": [
       "\u001b[31m╭─\u001b[0m\u001b[31m──────────────────────────────\u001b[0m\u001b[31m \u001b[0m\u001b[1;31mTraceback \u001b[0m\u001b[1;2;31m(most recent call last)\u001b[0m\u001b[31m \u001b[0m\u001b[31m───────────────────────────────\u001b[0m\u001b[31m─╮\u001b[0m\n",
       "\u001b[31m│\u001b[0m \u001b[2;33m/tmp/ipykernel_344/\u001b[0m\u001b[1;33m2159714274.py\u001b[0m:\u001b[94m1\u001b[0m in \u001b[92m<module>\u001b[0m                                                   \u001b[31m│\u001b[0m\n",
       "\u001b[31m│\u001b[0m                                                                                                  \u001b[31m│\u001b[0m\n",
       "\u001b[31m│\u001b[0m \u001b[3;31m[Errno 2] No such file or directory: '/tmp/ipykernel_344/2159714274.py'\u001b[0m                          \u001b[31m│\u001b[0m\n",
       "\u001b[31m╰──────────────────────────────────────────────────────────────────────────────────────────────────╯\u001b[0m\n",
       "\u001b[1;91mNameError: \u001b[0mname \u001b[32m'list_all_clusters'\u001b[0m is not defined\n"
      ]
     },
     "metadata": {},
     "output_type": "display_data"
    }
   ],
   "source": [
    "cf.cluster.cluster.list_all_clusters('default')"
   ]
  },
  {
   "cell_type": "markdown",
   "id": "a3e007d9-70e1-4296-a627-ee09b189a894",
   "metadata": {},
   "source": [
    "## Step 0: Prep"
   ]
  },
  {
   "cell_type": "code",
   "execution_count": 13,
   "id": "c5c2936c-7228-42fd-af3e-673ded59387c",
   "metadata": {},
   "outputs": [
    {
     "name": "stdout",
     "output_type": "stream",
     "text": [
      "/opt/app-root/src/teddy-demo\n"
     ]
    }
   ],
   "source": [
    "!pwd"
   ]
  },
  {
   "cell_type": "code",
   "execution_count": 51,
   "id": "9f508910",
   "metadata": {},
   "outputs": [
    {
     "name": "stdout",
     "output_type": "stream",
     "text": [
      "/model-orig\n",
      "mkdir: cannot create directory ‘/model-orig’: Permission denied\n",
      "mkdir: cannot create directory ‘/model-tuned’: Permission denied\n",
      "mkdir: cannot create directory ‘/images-reg’: Permission denied\n",
      "mkdir: cannot create directory ‘/images-own’: Permission denied\n",
      "mkdir: cannot create directory ‘/images-new’: Permission denied\n"
     ]
    }
   ],
   "source": [
    "# # THIS IS ORIGINAL\n",
    "\n",
    "# # TODO: If running on multiple nodes, change this path to a shared directory (ex: NFS)\n",
    "# !export DATA_PREFIX=\"/opt/app-root/src/teddy-demo\"\n",
    "# !export ORIG_MODEL_NAME=\"CompVis/stable-diffusion-v1-4\"\n",
    "# !export ORIG_MODEL_HASH=\"b95be7d6f134c3a9e62ee616f310733567f069ce\"\n",
    "# !export ORIG_MODEL_DIR=\"$DATA_PREFIX/model-orig\"\n",
    "# !export ORIG_MODEL_PATH=\"$ORIG_MODEL_DIR/models--${ORIG_MODEL_NAME/\\//--}/snapshots/$ORIG_MODEL_HASH\"\n",
    "# !export TUNED_MODEL_DIR=\"$DATA_PREFIX/model-tuned\"\n",
    "# !export IMAGES_REG_DIR=\"$DATA_PREFIX/images-reg\"\n",
    "# !export IMAGES_OWN_DIR=\"$DATA_PREFIX/images-own\"\n",
    "# !export IMAGES_NEW_DIR=\"$DATA_PREFIX/images-new\"\n",
    "# # TODO: Add more worker nodes and increase NUM_WORKERS for more data-parallelism\n",
    "# !export NUM_WORKERS=2\n",
    "\n",
    "# # !mkdir -p \n",
    "# !echo $ORIG_MODEL_DIR \n",
    "# # $TUNED_MODEL_DIR $IMAGES_REG_DIR $IMAGES_OWN_DIR $IMAGES_NEW_DIR\n",
    "# !mkdir -p $ORIG_MODEL_DIR $TUNED_MODEL_DIR $IMAGES_REG_DIR $IMAGES_OWN_DIR $IMAGES_NEW_DIR"
   ]
  },
  {
   "cell_type": "code",
   "execution_count": 14,
   "id": "55447ece-d1fe-4511-905b-4f9844367142",
   "metadata": {},
   "outputs": [],
   "source": [
    "import os"
   ]
  },
  {
   "cell_type": "code",
   "execution_count": null,
   "id": "c2113cce-65d5-410c-99e0-b11df9c0d413",
   "metadata": {},
   "outputs": [],
   "source": []
  },
  {
   "cell_type": "code",
   "execution_count": 15,
   "id": "47d998bb-dbe4-416a-8b33-7c820219f663",
   "metadata": {},
   "outputs": [],
   "source": [
    "# THIS IS ORIGINAL\n",
    "\n",
    "# TODO: If running on multiple nodes, change this path to a shared directory (ex: NFS)\n",
    "DATA_PREFIX=\"/opt/app-root/src/teddy-demo\"\n",
    "\n",
    "# DATA_PREFIX=\"/opt/app-root/src/text-to-image-demo/dim-dreambooth\"\n",
    "ORIG_MODEL_NAME=\"CompVis/stable-diffusion-v1-4\"\n",
    "ORIG_MODEL_HASH=\"b95be7d6f134c3a9e62ee616f310733567f069ce\"\n",
    "ORIG_MODEL_DIR=\"model-orig\"\n",
    "ORIG_MODEL_PATH=\"$ORIG_MODEL_DIR/models--${ORIG_MODEL_NAME/\\//--}/snapshots/$ORIG_MODEL_HASH\"\n",
    "TUNED_MODEL_DIR=\"model-tuned\"\n",
    "IMAGES_REG_DIR=\"images-reg\"\n",
    "IMAGES_OWN_DIR=\"images-own\"\n",
    "IMAGES_NEW_DIR=\"images-new\"\n",
    "# TODO: Add more worker nodes and increase NUM_WORKERS for more data-parallelism\n",
    "!export NUM_WORKERS=2\n",
    "\n",
    "os.makedirs(ORIG_MODEL_DIR, exist_ok=True)\n",
    "os.makedirs(TUNED_MODEL_DIR, exist_ok=True)\n",
    "os.makedirs(IMAGES_REG_DIR, exist_ok=True)\n",
    "os.makedirs(IMAGES_OWN_DIR, exist_ok=True)\n",
    "os.makedirs(IMAGES_NEW_DIR, exist_ok=True)"
   ]
  },
  {
   "cell_type": "code",
   "execution_count": 16,
   "id": "fb101c35-e135-46b4-ad7c-1e6d5d8d3170",
   "metadata": {},
   "outputs": [],
   "source": [
    "# !export DATA_PREFIX=\"/opt/app-root/src/text-to-image-demo/dim-dreambooth\"\n",
    "# !export ORIG_MODEL_DIR=\"$DATA_PREFIX/model-orig\"\n",
    "# !export ORIG_MODEL_NAME=\"CompVis/stable-diffusion-v1-4\"\n",
    "# !export ORIG_MODEL_HASH=\"b95be7d6f134c3a9e62ee616f310733567f069ce\"\n"
   ]
  },
  {
   "cell_type": "code",
   "execution_count": 17,
   "id": "9c7452d4-95b8-415c-bbc7-e81d54326b04",
   "metadata": {},
   "outputs": [
    {
     "name": "stdout",
     "output_type": "stream",
     "text": [
      "/opt/app-root/src/teddy-demo\n",
      "CompVis/stable-diffusion-v1-4\n",
      "b95be7d6f134c3a9e62ee616f310733567f069ce\n"
     ]
    }
   ],
   "source": [
    "!echo $DATA_PREFIX\n",
    "!echo $ORIG_MODEL_NAME\n",
    "!echo $ORIG_MODEL_HASH"
   ]
  },
  {
   "cell_type": "markdown",
   "id": "48ccc9d0-0ccd-42bb-b232-f260b25998ed",
   "metadata": {},
   "source": [
    "## Step 1: Download the pre-trained model"
   ]
  },
  {
   "cell_type": "code",
   "execution_count": 23,
   "id": "425524b7-e87e-4ff6-9348-266ba79d5742",
   "metadata": {},
   "outputs": [
    {
     "name": "stdout",
     "output_type": "stream",
     "text": [
      "/opt/app-root/src/teddy-demo\n"
     ]
    }
   ],
   "source": [
    "!pwd"
   ]
  },
  {
   "cell_type": "code",
   "execution_count": 44,
   "id": "ef10c2f8-ec6f-40d0-9179-3606785573ba",
   "metadata": {},
   "outputs": [],
   "source": [
    "# !python 05_dreambooth_finetuning/dreambooth/cache_model.py --model_dir=$DATA_PREFIX/images-reg --model_name=$ORIG_MODEL_NAME --revision=$ORIG_MODEL_HASH"
   ]
  },
  {
   "cell_type": "markdown",
   "id": "54ae8097-4d94-425c-aa3a-590ec6ba2c9f",
   "metadata": {},
   "source": [
    "## Step 2: Supply images of your subject"
   ]
  },
  {
   "cell_type": "code",
   "execution_count": 19,
   "id": "a3f7d528-a692-4f35-a33e-b19851c0a689",
   "metadata": {},
   "outputs": [],
   "source": [
    "  # Only uncomment one of the following:\n",
    "\n",
    "  # Option 1: Use the dog dataset ---------\n",
    "!export CLASS_NAME=\"dog\"\n",
    "# !python 05_dreambooth_finetuning/dreambooth/download_example_dataset.py ./images/dog\n",
    "CLASS_NAME='dog'\n",
    "  # export INSTANCE_DIR=./images/dog\n",
    "  # ---------------------------------------\n",
    "\n",
    "  # Option 2: Use the lego car dataset ----\n",
    " # !export CLASS_NAME=\"car\"\n",
    " # !export INSTANCE_DIR=./images/lego-car\n",
    "  # ---------------------------------------\n",
    "\n",
    "  # Option 3: Use your own images ---------\n",
    "  # export CLASS_NAME=\"<class-of-your-subject>\"\n",
    "  # export INSTANCE_DIR=\"/path/to/images/of/subject\"\n",
    "  # ---------------------------------------\n",
    "\n",
    "  # Copy own images into IMAGES_OWN_DIR\n",
    "# !cp -rf $INSTANCE_DIR/* \"$IMAGES_OWN_DIR/\""
   ]
  },
  {
   "cell_type": "markdown",
   "id": "5c7154fa-9afe-498d-b714-b710742ea2b3",
   "metadata": {},
   "source": [
    "## Step 3: Create the regularization images"
   ]
  },
  {
   "cell_type": "code",
   "execution_count": 20,
   "id": "aa104b46-d443-46ef-a2dd-c5940774393f",
   "metadata": {},
   "outputs": [
    {
     "name": "stdout",
     "output_type": "stream",
     "text": [
      "dog\n"
     ]
    }
   ],
   "source": [
    "!echo $CLASS_NAME"
   ]
  },
  {
   "cell_type": "code",
   "execution_count": 21,
   "id": "2504a266-baac-4c9c-84cd-a6fb9a14889e",
   "metadata": {},
   "outputs": [
    {
     "name": "stdout",
     "output_type": "stream",
     "text": [
      "Collecting flags\n",
      "  Downloading flags-0.0.1.2.tar.gz (1.0 kB)\n",
      "  Preparing metadata (setup.py) ... \u001b[?25ldone\n",
      "\u001b[?25hBuilding wheels for collected packages: flags\n",
      "  Building wheel for flags (setup.py) ... \u001b[?25ldone\n",
      "\u001b[?25h  Created wheel for flags: filename=flags-0.0.1.2-py3-none-any.whl size=1700 sha256=82dfce04fc09a2a405ad736aa54a99dcb1095c6cc19f548a242032f1afa76f5a\n",
      "  Stored in directory: /tmp/pip-ephem-wheel-cache-r5jmbmyt/wheels/56/d8/66/3b5a98f9680b2719b25fe1d812d205577bd53fc642bd5902c9\n",
      "Successfully built flags\n",
      "Installing collected packages: flags\n",
      "Successfully installed flags-0.0.1.2\n",
      "\n",
      "\u001b[1m[\u001b[0m\u001b[34;49mnotice\u001b[0m\u001b[1;39;49m]\u001b[0m\u001b[39;49m A new release of pip available: \u001b[0m\u001b[31;49m22.3\u001b[0m\u001b[39;49m -> \u001b[0m\u001b[32;49m23.2.1\u001b[0m\n",
      "\u001b[1m[\u001b[0m\u001b[34;49mnotice\u001b[0m\u001b[1;39;49m]\u001b[0m\u001b[39;49m To update, run: \u001b[0m\u001b[32;49mpip install --upgrade pip\u001b[0m\n"
     ]
    }
   ],
   "source": [
    "!pip install flags"
   ]
  },
  {
   "cell_type": "code",
   "execution_count": 22,
   "id": "139be686-9907-4894-be6a-58b62d478a13",
   "metadata": {},
   "outputs": [
    {
     "name": "stdout",
     "output_type": "stream",
     "text": [
      "Requirement already satisfied: pyarrow in /opt/app-root/lib/python3.8/site-packages (6.0.1)\n",
      "Requirement already satisfied: numpy>=1.16.6 in /opt/app-root/lib/python3.8/site-packages (from pyarrow) (1.24.4)\n",
      "\n",
      "\u001b[1m[\u001b[0m\u001b[34;49mnotice\u001b[0m\u001b[1;39;49m]\u001b[0m\u001b[39;49m A new release of pip available: \u001b[0m\u001b[31;49m22.3\u001b[0m\u001b[39;49m -> \u001b[0m\u001b[32;49m23.2.1\u001b[0m\n",
      "\u001b[1m[\u001b[0m\u001b[34;49mnotice\u001b[0m\u001b[1;39;49m]\u001b[0m\u001b[39;49m To update, run: \u001b[0m\u001b[32;49mpip install --upgrade pip\u001b[0m\n"
     ]
    }
   ],
   "source": [
    "!pip install pyarrow"
   ]
  },
  {
   "cell_type": "code",
   "execution_count": null,
   "id": "878a85de-951f-430b-b224-353e9b840a50",
   "metadata": {},
   "outputs": [],
   "source": []
  },
  {
   "cell_type": "code",
   "execution_count": 23,
   "id": "740f7c89-a630-4371-88f2-fd56b0250cd4",
   "metadata": {},
   "outputs": [
    {
     "name": "stdout",
     "output_type": "stream",
     "text": [
      "^C\n"
     ]
    }
   ],
   "source": [
    "!python 05_dreambooth_finetuning/dreambooth/generate.py \\\n",
    "    --model_dir=ORIG_MODEL_PATH \\\n",
    "    --output_dir=IMAGES_REG_DIR \\\n",
    "    --prompts=f\"photo of a dog\" \\\n",
    "    --num_samples_per_prompt=200 \\\n",
    "    --use_ray_data"
   ]
  },
  {
   "cell_type": "markdown",
   "id": "0269bcba-b7bc-4bd9-a7d6-75695cebcd6d",
   "metadata": {},
   "source": [
    "## Fine tune the model"
   ]
  },
  {
   "cell_type": "code",
   "execution_count": 24,
   "id": "dee09f44-95c4-4bbf-b0e6-b1bb44c6a06d",
   "metadata": {},
   "outputs": [],
   "source": [
    "# !pip install ray['train'] --upgrade --force-reinstall"
   ]
  },
  {
   "cell_type": "code",
   "execution_count": 25,
   "id": "bd563307-a371-48ca-9827-c5f6f2338bf3",
   "metadata": {},
   "outputs": [],
   "source": [
    "UNIQUE_TOKEN = 'unqtkn'\n",
    "CLASS_NAME = 'dog'"
   ]
  },
  {
   "cell_type": "code",
   "execution_count": 26,
   "id": "5bb15ebe-08b8-48f1-b8fc-87dab2b9e78f",
   "metadata": {},
   "outputs": [
    {
     "name": "stdout",
     "output_type": "stream",
     "text": [
      "Collecting gputil\n",
      "  Downloading GPUtil-1.4.0.tar.gz (5.5 kB)\n",
      "  Preparing metadata (setup.py) ... \u001b[?25ldone\n",
      "\u001b[?25hBuilding wheels for collected packages: gputil\n",
      "  Building wheel for gputil (setup.py) ... \u001b[?25ldone\n",
      "\u001b[?25h  Created wheel for gputil: filename=GPUtil-1.4.0-py3-none-any.whl size=7394 sha256=d550caca4e70ea6b408ce8b9041bbb4d0015add78b39cbed368da43932fa1f85\n",
      "  Stored in directory: /tmp/pip-ephem-wheel-cache-g9gs7af5/wheels/0f/d6/bc/81bb079b0a87885354d6c32d323698a718a125cd65955155d8\n",
      "Successfully built gputil\n",
      "Installing collected packages: gputil\n",
      "Successfully installed gputil-1.4.0\n",
      "\n",
      "\u001b[1m[\u001b[0m\u001b[34;49mnotice\u001b[0m\u001b[1;39;49m]\u001b[0m\u001b[39;49m A new release of pip available: \u001b[0m\u001b[31;49m22.3\u001b[0m\u001b[39;49m -> \u001b[0m\u001b[32;49m23.2.1\u001b[0m\n",
      "\u001b[1m[\u001b[0m\u001b[34;49mnotice\u001b[0m\u001b[1;39;49m]\u001b[0m\u001b[39;49m To update, run: \u001b[0m\u001b[32;49mpip install --upgrade pip\u001b[0m\n"
     ]
    }
   ],
   "source": [
    "!pip install gputil"
   ]
  },
  {
   "cell_type": "code",
   "execution_count": 42,
   "id": "9d716a44-3e0e-4de2-80ec-23b8de96ba13",
   "metadata": {},
   "outputs": [
    {
     "name": "stdout",
     "output_type": "stream",
     "text": [
      "Collecting ray[Train]==2.5\n",
      "  Downloading ray-2.5.0-cp38-cp38-manylinux2014_x86_64.whl (56.2 MB)\n",
      "\u001b[2K     \u001b[90m━━━━━━━━━━━━━━━━━━━━━━━━━━━━━━━━━━━━━━━\u001b[0m \u001b[32m56.2/56.2 MB\u001b[0m \u001b[31m100.4 MB/s\u001b[0m eta \u001b[36m0:00:00\u001b[0ma \u001b[36m0:00:01\u001b[0m\n",
      "\u001b[?25hRequirement already satisfied: jsonschema in /opt/app-root/lib/python3.8/site-packages (from ray[Train]==2.5) (4.19.1)\n",
      "Requirement already satisfied: click>=7.0 in /opt/app-root/lib/python3.8/site-packages (from ray[Train]==2.5) (8.1.7)\n",
      "Requirement already satisfied: frozenlist in /opt/app-root/lib/python3.8/site-packages (from ray[Train]==2.5) (1.4.0)\n",
      "Requirement already satisfied: protobuf!=3.19.5,>=3.15.3 in /opt/app-root/lib/python3.8/site-packages (from ray[Train]==2.5) (4.24.4)\n",
      "Requirement already satisfied: grpcio<=1.51.3,>=1.32.0 in /opt/app-root/lib/python3.8/site-packages (from ray[Train]==2.5) (1.43.0)\n",
      "Requirement already satisfied: packaging in /opt/app-root/lib/python3.8/site-packages (from ray[Train]==2.5) (23.2)\n",
      "Requirement already satisfied: msgpack<2.0.0,>=1.0.0 in /opt/app-root/lib/python3.8/site-packages (from ray[Train]==2.5) (1.0.7)\n",
      "Requirement already satisfied: numpy>=1.16 in /opt/app-root/lib/python3.8/site-packages (from ray[Train]==2.5) (1.24.4)\n",
      "Requirement already satisfied: filelock in /opt/app-root/lib/python3.8/site-packages (from ray[Train]==2.5) (3.12.4)\n",
      "Requirement already satisfied: pyyaml in /opt/app-root/lib/python3.8/site-packages (from ray[Train]==2.5) (6.0.1)\n",
      "Requirement already satisfied: requests in /opt/app-root/lib/python3.8/site-packages (from ray[Train]==2.5) (2.31.0)\n",
      "Requirement already satisfied: aiosignal in /opt/app-root/lib/python3.8/site-packages (from ray[Train]==2.5) (1.3.1)\n",
      "Requirement already satisfied: attrs in /opt/app-root/lib/python3.8/site-packages (from ray[Train]==2.5) (23.1.0)\n",
      "Requirement already satisfied: pyarrow>=6.0.1 in /opt/app-root/lib/python3.8/site-packages (from ray[Train]==2.5) (13.0.0)\n",
      "Requirement already satisfied: pandas in /opt/app-root/lib/python3.8/site-packages (from ray[Train]==2.5) (2.0.3)\n",
      "Requirement already satisfied: tensorboardX>=1.9 in /opt/app-root/lib/python3.8/site-packages (from ray[Train]==2.5) (2.6.2.2)\n",
      "Requirement already satisfied: six>=1.5.2 in /opt/app-root/lib/python3.8/site-packages (from grpcio<=1.51.3,>=1.32.0->ray[Train]==2.5) (1.16.0)\n",
      "Requirement already satisfied: importlib-resources>=1.4.0 in /opt/app-root/lib/python3.8/site-packages (from jsonschema->ray[Train]==2.5) (6.1.0)\n",
      "Requirement already satisfied: jsonschema-specifications>=2023.03.6 in /opt/app-root/lib/python3.8/site-packages (from jsonschema->ray[Train]==2.5) (2023.7.1)\n",
      "Requirement already satisfied: pkgutil-resolve-name>=1.3.10 in /opt/app-root/lib/python3.8/site-packages (from jsonschema->ray[Train]==2.5) (1.3.10)\n",
      "Requirement already satisfied: rpds-py>=0.7.1 in /opt/app-root/lib/python3.8/site-packages (from jsonschema->ray[Train]==2.5) (0.10.4)\n",
      "Requirement already satisfied: referencing>=0.28.4 in /opt/app-root/lib/python3.8/site-packages (from jsonschema->ray[Train]==2.5) (0.30.2)\n",
      "Requirement already satisfied: tzdata>=2022.1 in /opt/app-root/lib/python3.8/site-packages (from pandas->ray[Train]==2.5) (2023.3)\n",
      "Requirement already satisfied: pytz>=2020.1 in /opt/app-root/lib/python3.8/site-packages (from pandas->ray[Train]==2.5) (2023.3.post1)\n",
      "Requirement already satisfied: python-dateutil>=2.8.2 in /opt/app-root/lib/python3.8/site-packages (from pandas->ray[Train]==2.5) (2.8.2)\n",
      "Requirement already satisfied: charset-normalizer<4,>=2 in /opt/app-root/lib/python3.8/site-packages (from requests->ray[Train]==2.5) (3.3.0)\n",
      "Requirement already satisfied: certifi>=2017.4.17 in /opt/app-root/lib/python3.8/site-packages (from requests->ray[Train]==2.5) (2023.7.22)\n",
      "Requirement already satisfied: idna<4,>=2.5 in /opt/app-root/lib/python3.8/site-packages (from requests->ray[Train]==2.5) (3.4)\n",
      "Requirement already satisfied: urllib3<3,>=1.21.1 in /opt/app-root/lib/python3.8/site-packages (from requests->ray[Train]==2.5) (2.0.6)\n",
      "Requirement already satisfied: zipp>=3.1.0 in /opt/app-root/lib/python3.8/site-packages (from importlib-resources>=1.4.0->jsonschema->ray[Train]==2.5) (3.17.0)\n",
      "Installing collected packages: ray\n",
      "  Attempting uninstall: ray\n",
      "    Found existing installation: ray 2.7.1\n",
      "    Uninstalling ray-2.7.1:\n",
      "      Successfully uninstalled ray-2.7.1\n",
      "\u001b[31mERROR: pip's dependency resolver does not currently take into account all the packages that are installed. This behaviour is the source of the following dependency conflicts.\n",
      "codeflare 0.1.2.dev0 requires pickle5>=0.0.11, which is not installed.\u001b[0m\u001b[31m\n",
      "\u001b[0mSuccessfully installed ray-2.5.0\n",
      "\n",
      "\u001b[1m[\u001b[0m\u001b[34;49mnotice\u001b[0m\u001b[1;39;49m]\u001b[0m\u001b[39;49m A new release of pip available: \u001b[0m\u001b[31;49m22.3\u001b[0m\u001b[39;49m -> \u001b[0m\u001b[32;49m23.2.1\u001b[0m\n",
      "\u001b[1m[\u001b[0m\u001b[34;49mnotice\u001b[0m\u001b[1;39;49m]\u001b[0m\u001b[39;49m To update, run: \u001b[0m\u001b[32;49mpip install --upgrade pip\u001b[0m\n"
     ]
    }
   ],
   "source": [
    "# !pip install ray['rllib'] --force-reinstall\n",
    "!pip install ray['Train']==2.5 #--upgrade --force-reinstall"
   ]
  },
  {
   "cell_type": "code",
   "execution_count": 28,
   "id": "e4240aa0-ca30-4970-8844-d029907dd52c",
   "metadata": {},
   "outputs": [],
   "source": [
    "# !pip install ray['Air'] --force-reinstall"
   ]
  },
  {
   "cell_type": "code",
   "execution_count": 29,
   "id": "8a9f9e95-8053-488a-81ac-ec26c72b7a7a",
   "metadata": {},
   "outputs": [],
   "source": [
    "# !pip install xformers --force-reinstall"
   ]
  },
  {
   "cell_type": "code",
   "execution_count": 30,
   "id": "1a526c77-c01f-4cad-8488-0316adc00922",
   "metadata": {},
   "outputs": [],
   "source": [
    "# !pip install grpcio --upgrade --force-reinstall"
   ]
  },
  {
   "cell_type": "code",
   "execution_count": 31,
   "id": "35455825-d35e-4a33-984a-2be2b22845c5",
   "metadata": {},
   "outputs": [],
   "source": [
    "# !pip install pyarrow --upgrade --force-reinstall"
   ]
  },
  {
   "cell_type": "code",
   "execution_count": 45,
   "id": "61cb7603-5482-4262-8381-a4e2008c70c1",
   "metadata": {},
   "outputs": [],
   "source": [
    "# !pip install ray --upgrade --force-reinstall"
   ]
  },
  {
   "cell_type": "code",
   "execution_count": 46,
   "id": "645bad0a-d5d8-4589-ae73-2bdf865d0e1c",
   "metadata": {},
   "outputs": [
    {
     "ename": "ImportError",
     "evalue": "cannot import name 'ScalingConfig' from 'ray.train' (/opt/app-root/lib64/python3.8/site-packages/ray/train/__init__.py)",
     "output_type": "error",
     "traceback": [
      "\u001b[0;31m---------------------------------------------------------------------------\u001b[0m",
      "\u001b[0;31mImportError\u001b[0m                               Traceback (most recent call last)",
      "Cell \u001b[0;32mIn [46], line 1\u001b[0m\n\u001b[0;32m----> 1\u001b[0m \u001b[38;5;28;01mfrom\u001b[39;00m \u001b[38;5;21;01mray\u001b[39;00m\u001b[38;5;21;01m.\u001b[39;00m\u001b[38;5;21;01mtrain\u001b[39;00m \u001b[38;5;28;01mimport\u001b[39;00m ScalingConfig\n",
      "\u001b[0;31mImportError\u001b[0m: cannot import name 'ScalingConfig' from 'ray.train' (/opt/app-root/lib64/python3.8/site-packages/ray/train/__init__.py)"
     ]
    }
   ],
   "source": [
    "from ray.train import ScalingConfig"
   ]
  },
  {
   "cell_type": "code",
   "execution_count": 32,
   "id": "f61288df-0a78-487f-ac06-0f038b670d79",
   "metadata": {},
   "outputs": [
    {
     "name": "stdout",
     "output_type": "stream",
     "text": [
      "\u001b[31m╭─\u001b[0m\u001b[31m────────────────────\u001b[0m\u001b[31m \u001b[0m\u001b[1;31mTraceback \u001b[0m\u001b[1;2;31m(most recent call last)\u001b[0m\u001b[31m \u001b[0m\u001b[31m─────────────────────\u001b[0m\u001b[31m─╮\u001b[0m\n",
      "\u001b[31m│\u001b[0m \u001b[2;33m/opt/app-root/src/teddy-demo/05_dreambooth_finetuning/dreambooth/\u001b[0m\u001b[1;33mtrain.py\u001b[0m:\u001b[94m27\u001b[0m \u001b[31m│\u001b[0m\n",
      "\u001b[31m│\u001b[0m in \u001b[92m<module>\u001b[0m                                                                  \u001b[31m│\u001b[0m\n",
      "\u001b[31m│\u001b[0m                                                                              \u001b[31m│\u001b[0m\n",
      "\u001b[31m│\u001b[0m   \u001b[2m 24 \u001b[0m                                                                       \u001b[31m│\u001b[0m\n",
      "\u001b[31m│\u001b[0m   \u001b[2m 25 \u001b[0m\u001b[2m# LoRA related imports end ##\u001b[0m                                          \u001b[31m│\u001b[0m\n",
      "\u001b[31m│\u001b[0m   \u001b[2m 26 \u001b[0m\u001b[94mfrom\u001b[0m \u001b[4;96mdiffusers\u001b[0m\u001b[4;96m.\u001b[0m\u001b[4;96mutils\u001b[0m\u001b[4;96m.\u001b[0m\u001b[4;96mimport_utils\u001b[0m \u001b[94mimport\u001b[0m is_xformers_available         \u001b[31m│\u001b[0m\n",
      "\u001b[31m│\u001b[0m \u001b[31m❱ \u001b[0m 27 \u001b[94mfrom\u001b[0m \u001b[4;96mray\u001b[0m\u001b[4;96m.\u001b[0m\u001b[4;96mtrain\u001b[0m \u001b[94mimport\u001b[0m ScalingConfig                                    \u001b[31m│\u001b[0m\n",
      "\u001b[31m│\u001b[0m   \u001b[2m 28 \u001b[0m\u001b[94mfrom\u001b[0m \u001b[4;96mray\u001b[0m \u001b[94mimport\u001b[0m train                                                  \u001b[31m│\u001b[0m\n",
      "\u001b[31m│\u001b[0m   \u001b[2m 29 \u001b[0m\u001b[94mfrom\u001b[0m \u001b[4;96mray\u001b[0m\u001b[4;96m.\u001b[0m\u001b[4;96mtrain\u001b[0m\u001b[4;96m.\u001b[0m\u001b[4;96mtorch\u001b[0m \u001b[94mimport\u001b[0m TorchTrainer                               \u001b[31m│\u001b[0m\n",
      "\u001b[31m│\u001b[0m   \u001b[2m 30 \u001b[0m\u001b[94mimport\u001b[0m \u001b[4;96mtorch\u001b[0m                                                           \u001b[31m│\u001b[0m\n",
      "\u001b[31m╰──────────────────────────────────────────────────────────────────────────────╯\u001b[0m\n",
      "\u001b[1;91mImportError: \u001b[0mcannot import name \u001b[32m'ScalingConfig'\u001b[0m from \u001b[32m'ray.train'\u001b[0m \n",
      "\u001b[1m(\u001b[0m\u001b[35m/opt/app-root/lib64/python3.8/site-packages/ray/train/\u001b[0m\u001b[95m__init__.py\u001b[0m\u001b[1m)\u001b[0m\n"
     ]
    }
   ],
   "source": [
    "!python 05_dreambooth_finetuning/dreambooth/train.py \\\n",
    "    --model_dir=images-reg \\\n",
    "    --output_dir=model-tuned \\\n",
    "    --instance_images_dir=images-own \\\n",
    "    --instance_prompt=\"photo of unqtkn dog\" \\\n",
    "    --class_images_dir=images-reg \\\n",
    "    --class_prompt=\"photo of a dog\" \\\n",
    "    --train_batch_size=2 \\\n",
    "    --lr=5e-6 \\\n",
    "    --num_epochs=4 \\\n",
    "    --max_train_steps=200 \\\n",
    "    --num_workers=2"
   ]
  },
  {
   "cell_type": "code",
   "execution_count": null,
   "id": "48fac218-2f22-428b-9228-137a4bb0e666",
   "metadata": {},
   "outputs": [],
   "source": [
    "cluster.details()"
   ]
  },
  {
   "cell_type": "code",
   "execution_count": null,
   "id": "9ed5bd75-4230-4c7c-a9e2-0f247890e62a",
   "metadata": {},
   "outputs": [],
   "source": [
    "from codeflare_sdk.job.jobs import DDPJobDefinition"
   ]
  },
  {
   "cell_type": "code",
   "execution_count": null,
   "id": "611d203a-35aa-4357-a748-1d01b022fcdb",
   "metadata": {},
   "outputs": [],
   "source": [
    "arg_list = [\n",
    "    \"--model_name_or_path\", \"gpt2\",\n",
    "    \"--dataset_name\", \"wikitext\",\n",
    "    \"--dataset_config_name\", \"wikitext-2-raw-v1\",\n",
    "    \"--per_device_train_batch_size\", \"2\",\n",
    "    \"--per_device_eval_batch_size\", \"2\",\n",
    "    \"--do_train\",\n",
    "    \"--do_eval\",\n",
    "    \"--output_dir\", \"/tmp/test-clm\",\n",
    "    \"--overwrite_output_dir\"\n",
    "]"
   ]
  },
  {
   "cell_type": "code",
   "execution_count": null,
   "id": "8ac7c34f-e227-44c2-a4b1-a57c853ac3a7",
   "metadata": {},
   "outputs": [],
   "source": [
    "jobdef = DDPJobDefinition(\n",
    "    name=\"gpttest\",\n",
    "    script=\"gpt_og.py\",\n",
    "    script_args=arg_list,\n",
    "    scheduler_args={\"requirements\": \"requirements_gpt.txt\"}\n",
    ")\n",
    "job = jobdef.submit(cluster)"
   ]
  },
  {
   "cell_type": "code",
   "execution_count": null,
   "id": "1680d287-de46-45f8-b95a-02ba3c83912c",
   "metadata": {},
   "outputs": [],
   "source": [
    "job.status()"
   ]
  },
  {
   "cell_type": "markdown",
   "id": "80bc1961",
   "metadata": {},
   "source": [
    "Retrieve raw log output at anytime with:"
   ]
  },
  {
   "cell_type": "code",
   "execution_count": null,
   "id": "d25d6198-9941-47e8-857f-9811830cc854",
   "metadata": {},
   "outputs": [],
   "source": [
    "job.logs()"
   ]
  },
  {
   "cell_type": "markdown",
   "id": "876b96b5",
   "metadata": {},
   "source": [
    "View live updates for status, logs, and other information with:"
   ]
  },
  {
   "cell_type": "code",
   "execution_count": null,
   "id": "58f8a2e8",
   "metadata": {},
   "outputs": [],
   "source": [
    "cluster.cluster_dashboard_uri()"
   ]
  },
  {
   "cell_type": "code",
   "execution_count": null,
   "id": "d7c13eab",
   "metadata": {},
   "outputs": [],
   "source": [
    "job.status()"
   ]
  },
  {
   "cell_type": "code",
   "execution_count": null,
   "id": "beb1a6b9-d9b3-49b7-b036-09f1d3569b59",
   "metadata": {},
   "outputs": [],
   "source": [
    "cluster.down()"
   ]
  },
  {
   "cell_type": "code",
   "execution_count": null,
   "id": "8398d977-db24-46d0-a7d2-b4e9197808d7",
   "metadata": {},
   "outputs": [],
   "source": [
    "auth.logout()"
   ]
  }
 ],
 "metadata": {
  "kernelspec": {
   "display_name": "Python 3 (ipykernel)",
   "language": "python",
   "name": "python3"
  },
  "language_info": {
   "codemirror_mode": {
    "name": "ipython",
    "version": 3
   },
   "file_extension": ".py",
   "mimetype": "text/x-python",
   "name": "python",
   "nbconvert_exporter": "python",
   "pygments_lexer": "ipython3",
   "version": "3.8.13"
  }
 },
 "nbformat": 4,
 "nbformat_minor": 5
}
